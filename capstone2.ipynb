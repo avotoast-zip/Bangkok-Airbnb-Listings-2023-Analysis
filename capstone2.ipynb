{
 "cells": [
  {
   "cell_type": "markdown",
   "metadata": {},
   "source": [
    "# **Bangkok Airbnb Listings 2023 Data Analysis**\n",
    "*by Cindy Handoko Tantowibowo*"
   ]
  },
  {
   "cell_type": "markdown",
   "metadata": {},
   "source": [
    "### 1. Background\n",
    "\n",
    "Our client is a Bangkok citizen looking to start hosting an Airbnb. As a strategy consultant, we are expected to analyze the Bangkok Airbnb Listing data from 2023 to identify the best strategy for opening an Airbnb business."
   ]
  },
  {
   "cell_type": "markdown",
   "metadata": {},
   "source": [
    "### 2. Problem Statement\n",
    "\n",
    "Our client wants to know the following:\n",
    "1. What is the best area in Bangkok to invest in a property for Airbnb?\n",
    "1. What is the best listing type (apartment/hotel/etc.)?\n",
    "1. What is the most sought after price range per night?"
   ]
  },
  {
   "cell_type": "markdown",
   "metadata": {},
   "source": [
    "### 3. Preparation"
   ]
  },
  {
   "cell_type": "markdown",
   "metadata": {},
   "source": [
    "First, we have to prepare the data to be analyzed."
   ]
  },
  {
   "cell_type": "code",
   "execution_count": 216,
   "metadata": {},
   "outputs": [],
   "source": [
    "# %pip install geopy"
   ]
  },
  {
   "cell_type": "code",
   "execution_count": 217,
   "metadata": {},
   "outputs": [],
   "source": [
    "# Import libraries\n",
    "\n",
    "import pandas as pd\n",
    "import numpy as np\n",
    "\n",
    "import seaborn as sns\n",
    "import matplotlib.pyplot as plt\n",
    "\n",
    "import scipy.stats as stats\n",
    "\n",
    "from geopy.geocoders import Nominatim\n",
    "geolocator = Nominatim(user_agent=\"Bangkok2023\")"
   ]
  },
  {
   "cell_type": "markdown",
   "metadata": {},
   "source": [
    "This is the details of our dataset.\n",
    "\n",
    "Dataset title: **Bangkok Airbnb Listings 2023**<br>\n",
    "Dataset source: https://www.kaggle.com/datasets/minemartin/bangkok-airbnb-listings"
   ]
  },
  {
   "cell_type": "code",
   "execution_count": 218,
   "metadata": {},
   "outputs": [
    {
     "data": {
      "text/html": [
       "<div>\n",
       "<style scoped>\n",
       "    .dataframe tbody tr th:only-of-type {\n",
       "        vertical-align: middle;\n",
       "    }\n",
       "\n",
       "    .dataframe tbody tr th {\n",
       "        vertical-align: top;\n",
       "    }\n",
       "\n",
       "    .dataframe thead th {\n",
       "        text-align: right;\n",
       "    }\n",
       "</style>\n",
       "<table border=\"1\" class=\"dataframe\">\n",
       "  <thead>\n",
       "    <tr style=\"text-align: right;\">\n",
       "      <th></th>\n",
       "      <th>id</th>\n",
       "      <th>name</th>\n",
       "      <th>host_id</th>\n",
       "      <th>host_name</th>\n",
       "      <th>neighbourhood</th>\n",
       "      <th>latitude</th>\n",
       "      <th>longitude</th>\n",
       "      <th>room_type</th>\n",
       "      <th>price</th>\n",
       "      <th>minimum_nights</th>\n",
       "      <th>number_of_reviews</th>\n",
       "      <th>reviews_per_month</th>\n",
       "      <th>calculated_host_listings_count</th>\n",
       "      <th>availability_365</th>\n",
       "    </tr>\n",
       "  </thead>\n",
       "  <tbody>\n",
       "    <tr>\n",
       "      <th>0</th>\n",
       "      <td>27934</td>\n",
       "      <td>Nice room with superb city view</td>\n",
       "      <td>120437</td>\n",
       "      <td>Nuttee</td>\n",
       "      <td>Ratchathewi</td>\n",
       "      <td>13.75983</td>\n",
       "      <td>100.54134</td>\n",
       "      <td>Entire home/apt</td>\n",
       "      <td>1885</td>\n",
       "      <td>3</td>\n",
       "      <td>65</td>\n",
       "      <td>0.49</td>\n",
       "      <td>2</td>\n",
       "      <td>362</td>\n",
       "    </tr>\n",
       "    <tr>\n",
       "      <th>1</th>\n",
       "      <td>27979</td>\n",
       "      <td>Easy going landlord,easy place</td>\n",
       "      <td>120541</td>\n",
       "      <td>Emy</td>\n",
       "      <td>Bang Na</td>\n",
       "      <td>13.66818</td>\n",
       "      <td>100.61674</td>\n",
       "      <td>Private room</td>\n",
       "      <td>1307</td>\n",
       "      <td>1</td>\n",
       "      <td>0</td>\n",
       "      <td>0.00</td>\n",
       "      <td>2</td>\n",
       "      <td>358</td>\n",
       "    </tr>\n",
       "    <tr>\n",
       "      <th>2</th>\n",
       "      <td>28745</td>\n",
       "      <td>modern-style apartment in Bangkok</td>\n",
       "      <td>123784</td>\n",
       "      <td>Familyroom</td>\n",
       "      <td>Bang Kapi</td>\n",
       "      <td>13.75232</td>\n",
       "      <td>100.62402</td>\n",
       "      <td>Private room</td>\n",
       "      <td>800</td>\n",
       "      <td>60</td>\n",
       "      <td>0</td>\n",
       "      <td>0.00</td>\n",
       "      <td>1</td>\n",
       "      <td>365</td>\n",
       "    </tr>\n",
       "    <tr>\n",
       "      <th>3</th>\n",
       "      <td>35780</td>\n",
       "      <td>Spacious one bedroom at The Kris Condo Bldg. 3</td>\n",
       "      <td>153730</td>\n",
       "      <td>Sirilak</td>\n",
       "      <td>Din Daeng</td>\n",
       "      <td>13.78823</td>\n",
       "      <td>100.57256</td>\n",
       "      <td>Private room</td>\n",
       "      <td>1286</td>\n",
       "      <td>7</td>\n",
       "      <td>3</td>\n",
       "      <td>0.04</td>\n",
       "      <td>1</td>\n",
       "      <td>358</td>\n",
       "    </tr>\n",
       "    <tr>\n",
       "      <th>4</th>\n",
       "      <td>906203</td>\n",
       "      <td>1 BR on Srinakrin Rd. Parkland</td>\n",
       "      <td>4850305</td>\n",
       "      <td>Dujdao</td>\n",
       "      <td>Bang Na</td>\n",
       "      <td>13.65441</td>\n",
       "      <td>100.64548</td>\n",
       "      <td>Private room</td>\n",
       "      <td>791</td>\n",
       "      <td>1</td>\n",
       "      <td>0</td>\n",
       "      <td>0.00</td>\n",
       "      <td>1</td>\n",
       "      <td>365</td>\n",
       "    </tr>\n",
       "  </tbody>\n",
       "</table>\n",
       "</div>"
      ],
      "text/plain": [
       "       id                                            name  host_id  \\\n",
       "0   27934                 Nice room with superb city view   120437   \n",
       "1   27979                  Easy going landlord,easy place   120541   \n",
       "2   28745               modern-style apartment in Bangkok   123784   \n",
       "3   35780  Spacious one bedroom at The Kris Condo Bldg. 3   153730   \n",
       "4  906203                  1 BR on Srinakrin Rd. Parkland  4850305   \n",
       "\n",
       "    host_name neighbourhood  latitude  longitude        room_type  price  \\\n",
       "0      Nuttee   Ratchathewi  13.75983  100.54134  Entire home/apt   1885   \n",
       "1         Emy       Bang Na  13.66818  100.61674     Private room   1307   \n",
       "2  Familyroom     Bang Kapi  13.75232  100.62402     Private room    800   \n",
       "3     Sirilak     Din Daeng  13.78823  100.57256     Private room   1286   \n",
       "4      Dujdao       Bang Na  13.65441  100.64548     Private room    791   \n",
       "\n",
       "   minimum_nights  number_of_reviews  reviews_per_month  \\\n",
       "0               3                 65               0.49   \n",
       "1               1                  0               0.00   \n",
       "2              60                  0               0.00   \n",
       "3               7                  3               0.04   \n",
       "4               1                  0               0.00   \n",
       "\n",
       "   calculated_host_listings_count  availability_365  \n",
       "0                               2               362  \n",
       "1                               2               358  \n",
       "2                               1               365  \n",
       "3                               1               358  \n",
       "4                               1               365  "
      ]
     },
     "metadata": {},
     "output_type": "display_data"
    },
    {
     "data": {
      "text/html": [
       "<div>\n",
       "<style scoped>\n",
       "    .dataframe tbody tr th:only-of-type {\n",
       "        vertical-align: middle;\n",
       "    }\n",
       "\n",
       "    .dataframe tbody tr th {\n",
       "        vertical-align: top;\n",
       "    }\n",
       "\n",
       "    .dataframe thead th {\n",
       "        text-align: right;\n",
       "    }\n",
       "</style>\n",
       "<table border=\"1\" class=\"dataframe\">\n",
       "  <thead>\n",
       "    <tr style=\"text-align: right;\">\n",
       "      <th></th>\n",
       "      <th>id</th>\n",
       "      <th>name</th>\n",
       "      <th>host_id</th>\n",
       "      <th>host_name</th>\n",
       "      <th>neighbourhood</th>\n",
       "      <th>latitude</th>\n",
       "      <th>longitude</th>\n",
       "      <th>room_type</th>\n",
       "      <th>price</th>\n",
       "      <th>minimum_nights</th>\n",
       "      <th>number_of_reviews</th>\n",
       "      <th>reviews_per_month</th>\n",
       "      <th>calculated_host_listings_count</th>\n",
       "      <th>availability_365</th>\n",
       "    </tr>\n",
       "  </thead>\n",
       "  <tbody>\n",
       "    <tr>\n",
       "      <th>17391</th>\n",
       "      <td>856235727134350515</td>\n",
       "      <td>2-2 Thong lo 4卧别墅 可住10人 可派对</td>\n",
       "      <td>506389560</td>\n",
       "      <td>Apple</td>\n",
       "      <td>Vadhana</td>\n",
       "      <td>13.737850</td>\n",
       "      <td>100.584100</td>\n",
       "      <td>Entire home/apt</td>\n",
       "      <td>8224</td>\n",
       "      <td>1</td>\n",
       "      <td>0</td>\n",
       "      <td>0.0</td>\n",
       "      <td>29</td>\n",
       "      <td>365</td>\n",
       "    </tr>\n",
       "    <tr>\n",
       "      <th>17392</th>\n",
       "      <td>856255024356890986</td>\n",
       "      <td>Huai Khwang最新CBD公寓｜捷运3km｜免费WIFI｜全套家具家电｜泳池健身房｜长...</td>\n",
       "      <td>272690598</td>\n",
       "      <td>Zoe</td>\n",
       "      <td>Huai Khwang</td>\n",
       "      <td>13.767589</td>\n",
       "      <td>100.581963</td>\n",
       "      <td>Entire home/apt</td>\n",
       "      <td>916</td>\n",
       "      <td>30</td>\n",
       "      <td>0</td>\n",
       "      <td>0.0</td>\n",
       "      <td>1</td>\n",
       "      <td>364</td>\n",
       "    </tr>\n",
       "    <tr>\n",
       "      <th>17393</th>\n",
       "      <td>856260086330897689</td>\n",
       "      <td>Family Room - Room #12 (4ppl)</td>\n",
       "      <td>180473956</td>\n",
       "      <td>Abe</td>\n",
       "      <td>Khlong Toei</td>\n",
       "      <td>13.736933</td>\n",
       "      <td>100.557028</td>\n",
       "      <td>Entire home/apt</td>\n",
       "      <td>1119</td>\n",
       "      <td>3</td>\n",
       "      <td>0</td>\n",
       "      <td>0.0</td>\n",
       "      <td>9</td>\n",
       "      <td>362</td>\n",
       "    </tr>\n",
       "    <tr>\n",
       "      <th>17394</th>\n",
       "      <td>856260776045561925</td>\n",
       "      <td>1-1Kunst Sta  Mrt 180m Hua Lamphong หัวลำโพง</td>\n",
       "      <td>506389560</td>\n",
       "      <td>Apple</td>\n",
       "      <td>Bang Rak</td>\n",
       "      <td>13.737568</td>\n",
       "      <td>100.516389</td>\n",
       "      <td>Entire home/apt</td>\n",
       "      <td>1620</td>\n",
       "      <td>1</td>\n",
       "      <td>0</td>\n",
       "      <td>0.0</td>\n",
       "      <td>29</td>\n",
       "      <td>360</td>\n",
       "    </tr>\n",
       "    <tr>\n",
       "      <th>17395</th>\n",
       "      <td>856269506314170227</td>\n",
       "      <td>Deluxe room, Bitec Bangna (Twin Bed)</td>\n",
       "      <td>456119431</td>\n",
       "      <td>The Shade House</td>\n",
       "      <td>Bang Na</td>\n",
       "      <td>13.670467</td>\n",
       "      <td>100.615068</td>\n",
       "      <td>Private room</td>\n",
       "      <td>1090</td>\n",
       "      <td>1</td>\n",
       "      <td>0</td>\n",
       "      <td>0.0</td>\n",
       "      <td>11</td>\n",
       "      <td>365</td>\n",
       "    </tr>\n",
       "  </tbody>\n",
       "</table>\n",
       "</div>"
      ],
      "text/plain": [
       "                       id                                               name  \\\n",
       "17391  856235727134350515                        2-2 Thong lo 4卧别墅 可住10人 可派对   \n",
       "17392  856255024356890986  Huai Khwang最新CBD公寓｜捷运3km｜免费WIFI｜全套家具家电｜泳池健身房｜长...   \n",
       "17393  856260086330897689                      Family Room - Room #12 (4ppl)   \n",
       "17394  856260776045561925       1-1Kunst Sta  Mrt 180m Hua Lamphong หัวลำโพง   \n",
       "17395  856269506314170227               Deluxe room, Bitec Bangna (Twin Bed)   \n",
       "\n",
       "         host_id        host_name neighbourhood   latitude   longitude  \\\n",
       "17391  506389560            Apple       Vadhana  13.737850  100.584100   \n",
       "17392  272690598              Zoe   Huai Khwang  13.767589  100.581963   \n",
       "17393  180473956              Abe   Khlong Toei  13.736933  100.557028   \n",
       "17394  506389560            Apple      Bang Rak  13.737568  100.516389   \n",
       "17395  456119431  The Shade House       Bang Na  13.670467  100.615068   \n",
       "\n",
       "             room_type  price  minimum_nights  number_of_reviews  \\\n",
       "17391  Entire home/apt   8224               1                  0   \n",
       "17392  Entire home/apt    916              30                  0   \n",
       "17393  Entire home/apt   1119               3                  0   \n",
       "17394  Entire home/apt   1620               1                  0   \n",
       "17395     Private room   1090               1                  0   \n",
       "\n",
       "       reviews_per_month  calculated_host_listings_count  availability_365  \n",
       "17391                0.0                              29               365  \n",
       "17392                0.0                               1               364  \n",
       "17393                0.0                               9               362  \n",
       "17394                0.0                              29               360  \n",
       "17395                0.0                              11               365  "
      ]
     },
     "metadata": {},
     "output_type": "display_data"
    }
   ],
   "source": [
    "# Load dataset\n",
    "\n",
    "df = pd.read_csv(\"Bangkok_Listings_2023.csv\")\n",
    "\n",
    "# Display the first and last rows of the dataset\n",
    "display(df.head(), df.tail())"
   ]
  },
  {
   "cell_type": "markdown",
   "metadata": {},
   "source": [
    "### 4. Data Understanding"
   ]
  },
  {
   "cell_type": "markdown",
   "metadata": {},
   "source": [
    "This dataset contains the following columns:\n",
    "1. `id` - The unique identifier of listing\n",
    "1. `name` - The name of listing\n",
    "1. `host_id` - The unique identifier of the listing host\n",
    "1. `host_name` - The name of the listing host\n",
    "1. `neighbourhood` - The name of the neighbourhood that the listing is located at\n",
    "1. `latitude` - The geographical latitude of the listing for mapping purposes\n",
    "1. `longitude` - The geographical longitude of the listing for mapping purposes\n",
    "1. `room_type` - The room type that the listing offers\n",
    "1. `price` - The price per night\n",
    "1. `minimum_nights` - The minimum number of nights that the listing can be rented\n",
    "1. `number_of_reviews` - The total number of reviews\n",
    "1. `reviews_per_month` - The average reviews per month\n",
    "1. `calculated_host_listings_count` - The total number of listings owned by the host\n",
    "1. `availability_365` - The number of days that the listing is opened for rent throughout the year (2023)"
   ]
  },
  {
   "cell_type": "code",
   "execution_count": 219,
   "metadata": {},
   "outputs": [
    {
     "name": "stdout",
     "output_type": "stream",
     "text": [
      "The numbers of rows and columns in the dataset are (17396, 14)\n",
      "<class 'pandas.core.frame.DataFrame'>\n",
      "RangeIndex: 17396 entries, 0 to 17395\n",
      "Data columns (total 14 columns):\n",
      " #   Column                          Non-Null Count  Dtype  \n",
      "---  ------                          --------------  -----  \n",
      " 0   id                              17396 non-null  int64  \n",
      " 1   name                            17388 non-null  object \n",
      " 2   host_id                         17396 non-null  int64  \n",
      " 3   host_name                       17395 non-null  object \n",
      " 4   neighbourhood                   17396 non-null  object \n",
      " 5   latitude                        17396 non-null  float64\n",
      " 6   longitude                       17396 non-null  float64\n",
      " 7   room_type                       17396 non-null  object \n",
      " 8   price                           17396 non-null  int64  \n",
      " 9   minimum_nights                  17396 non-null  int64  \n",
      " 10  number_of_reviews               17396 non-null  int64  \n",
      " 11  reviews_per_month               17396 non-null  float64\n",
      " 12  calculated_host_listings_count  17396 non-null  int64  \n",
      " 13  availability_365                17396 non-null  int64  \n",
      "dtypes: float64(3), int64(7), object(4)\n",
      "memory usage: 1.9+ MB\n"
     ]
    }
   ],
   "source": [
    "# Get the shape of the data\n",
    "\n",
    "print(f'The numbers of rows and columns in the dataset are {df.shape}')\n",
    "df.info()"
   ]
  },
  {
   "cell_type": "code",
   "execution_count": 220,
   "metadata": {},
   "outputs": [
    {
     "data": {
      "text/html": [
       "<div>\n",
       "<style scoped>\n",
       "    .dataframe tbody tr th:only-of-type {\n",
       "        vertical-align: middle;\n",
       "    }\n",
       "\n",
       "    .dataframe tbody tr th {\n",
       "        vertical-align: top;\n",
       "    }\n",
       "\n",
       "    .dataframe thead th {\n",
       "        text-align: right;\n",
       "    }\n",
       "</style>\n",
       "<table border=\"1\" class=\"dataframe\">\n",
       "  <thead>\n",
       "    <tr style=\"text-align: right;\">\n",
       "      <th></th>\n",
       "      <th>id</th>\n",
       "      <th>host_id</th>\n",
       "      <th>latitude</th>\n",
       "      <th>longitude</th>\n",
       "      <th>price</th>\n",
       "      <th>minimum_nights</th>\n",
       "      <th>number_of_reviews</th>\n",
       "      <th>reviews_per_month</th>\n",
       "      <th>calculated_host_listings_count</th>\n",
       "      <th>availability_365</th>\n",
       "    </tr>\n",
       "  </thead>\n",
       "  <tbody>\n",
       "    <tr>\n",
       "      <th>count</th>\n",
       "      <td>1.739600e+04</td>\n",
       "      <td>1.739600e+04</td>\n",
       "      <td>17396.000000</td>\n",
       "      <td>17396.000000</td>\n",
       "      <td>17396.000000</td>\n",
       "      <td>17396.000000</td>\n",
       "      <td>17396.000000</td>\n",
       "      <td>17396.000000</td>\n",
       "      <td>17396.000000</td>\n",
       "      <td>17396.00000</td>\n",
       "    </tr>\n",
       "    <tr>\n",
       "      <th>mean</th>\n",
       "      <td>2.420969e+17</td>\n",
       "      <td>1.689798e+08</td>\n",
       "      <td>13.745011</td>\n",
       "      <td>100.560288</td>\n",
       "      <td>2887.079099</td>\n",
       "      <td>14.990458</td>\n",
       "      <td>16.724879</td>\n",
       "      <td>0.603935</td>\n",
       "      <td>17.206369</td>\n",
       "      <td>254.52696</td>\n",
       "    </tr>\n",
       "    <tr>\n",
       "      <th>std</th>\n",
       "      <td>3.540119e+17</td>\n",
       "      <td>1.447823e+08</td>\n",
       "      <td>0.042415</td>\n",
       "      <td>0.049918</td>\n",
       "      <td>21082.749949</td>\n",
       "      <td>47.365327</td>\n",
       "      <td>40.879010</td>\n",
       "      <td>1.103127</td>\n",
       "      <td>35.477404</td>\n",
       "      <td>122.60406</td>\n",
       "    </tr>\n",
       "    <tr>\n",
       "      <th>min</th>\n",
       "      <td>2.793400e+04</td>\n",
       "      <td>5.892000e+04</td>\n",
       "      <td>13.527300</td>\n",
       "      <td>100.329550</td>\n",
       "      <td>120.000000</td>\n",
       "      <td>1.000000</td>\n",
       "      <td>0.000000</td>\n",
       "      <td>0.000000</td>\n",
       "      <td>1.000000</td>\n",
       "      <td>0.00000</td>\n",
       "    </tr>\n",
       "    <tr>\n",
       "      <th>25%</th>\n",
       "      <td>2.311423e+07</td>\n",
       "      <td>4.254649e+07</td>\n",
       "      <td>13.720098</td>\n",
       "      <td>100.530389</td>\n",
       "      <td>900.000000</td>\n",
       "      <td>1.000000</td>\n",
       "      <td>0.000000</td>\n",
       "      <td>0.000000</td>\n",
       "      <td>1.000000</td>\n",
       "      <td>156.00000</td>\n",
       "    </tr>\n",
       "    <tr>\n",
       "      <th>50%</th>\n",
       "      <td>3.901822e+07</td>\n",
       "      <td>1.324732e+08</td>\n",
       "      <td>13.738630</td>\n",
       "      <td>100.562059</td>\n",
       "      <td>1384.000000</td>\n",
       "      <td>1.000000</td>\n",
       "      <td>2.000000</td>\n",
       "      <td>0.130000</td>\n",
       "      <td>5.000000</td>\n",
       "      <td>328.00000</td>\n",
       "    </tr>\n",
       "    <tr>\n",
       "      <th>75%</th>\n",
       "      <td>6.888730e+17</td>\n",
       "      <td>2.648650e+08</td>\n",
       "      <td>13.758882</td>\n",
       "      <td>100.584982</td>\n",
       "      <td>2242.000000</td>\n",
       "      <td>14.000000</td>\n",
       "      <td>14.000000</td>\n",
       "      <td>0.810000</td>\n",
       "      <td>17.000000</td>\n",
       "      <td>364.00000</td>\n",
       "    </tr>\n",
       "    <tr>\n",
       "      <th>max</th>\n",
       "      <td>8.564852e+17</td>\n",
       "      <td>5.070882e+08</td>\n",
       "      <td>13.953540</td>\n",
       "      <td>100.923440</td>\n",
       "      <td>1000000.000000</td>\n",
       "      <td>1115.000000</td>\n",
       "      <td>1379.000000</td>\n",
       "      <td>39.580000</td>\n",
       "      <td>247.000000</td>\n",
       "      <td>365.00000</td>\n",
       "    </tr>\n",
       "  </tbody>\n",
       "</table>\n",
       "</div>"
      ],
      "text/plain": [
       "                 id       host_id      latitude     longitude           price  \\\n",
       "count  1.739600e+04  1.739600e+04  17396.000000  17396.000000    17396.000000   \n",
       "mean   2.420969e+17  1.689798e+08     13.745011    100.560288     2887.079099   \n",
       "std    3.540119e+17  1.447823e+08      0.042415      0.049918    21082.749949   \n",
       "min    2.793400e+04  5.892000e+04     13.527300    100.329550      120.000000   \n",
       "25%    2.311423e+07  4.254649e+07     13.720098    100.530389      900.000000   \n",
       "50%    3.901822e+07  1.324732e+08     13.738630    100.562059     1384.000000   \n",
       "75%    6.888730e+17  2.648650e+08     13.758882    100.584982     2242.000000   \n",
       "max    8.564852e+17  5.070882e+08     13.953540    100.923440  1000000.000000   \n",
       "\n",
       "       minimum_nights  number_of_reviews  reviews_per_month  \\\n",
       "count    17396.000000       17396.000000       17396.000000   \n",
       "mean        14.990458          16.724879           0.603935   \n",
       "std         47.365327          40.879010           1.103127   \n",
       "min          1.000000           0.000000           0.000000   \n",
       "25%          1.000000           0.000000           0.000000   \n",
       "50%          1.000000           2.000000           0.130000   \n",
       "75%         14.000000          14.000000           0.810000   \n",
       "max       1115.000000        1379.000000          39.580000   \n",
       "\n",
       "       calculated_host_listings_count  availability_365  \n",
       "count                    17396.000000       17396.00000  \n",
       "mean                        17.206369         254.52696  \n",
       "std                         35.477404         122.60406  \n",
       "min                          1.000000           0.00000  \n",
       "25%                          1.000000         156.00000  \n",
       "50%                          5.000000         328.00000  \n",
       "75%                         17.000000         364.00000  \n",
       "max                        247.000000         365.00000  "
      ]
     },
     "metadata": {},
     "output_type": "display_data"
    },
    {
     "data": {
      "text/html": [
       "<div>\n",
       "<style scoped>\n",
       "    .dataframe tbody tr th:only-of-type {\n",
       "        vertical-align: middle;\n",
       "    }\n",
       "\n",
       "    .dataframe tbody tr th {\n",
       "        vertical-align: top;\n",
       "    }\n",
       "\n",
       "    .dataframe thead th {\n",
       "        text-align: right;\n",
       "    }\n",
       "</style>\n",
       "<table border=\"1\" class=\"dataframe\">\n",
       "  <thead>\n",
       "    <tr style=\"text-align: right;\">\n",
       "      <th></th>\n",
       "      <th>name</th>\n",
       "      <th>host_name</th>\n",
       "      <th>neighbourhood</th>\n",
       "      <th>room_type</th>\n",
       "    </tr>\n",
       "  </thead>\n",
       "  <tbody>\n",
       "    <tr>\n",
       "      <th>count</th>\n",
       "      <td>17388</td>\n",
       "      <td>17395</td>\n",
       "      <td>17396</td>\n",
       "      <td>17396</td>\n",
       "    </tr>\n",
       "    <tr>\n",
       "      <th>unique</th>\n",
       "      <td>15951</td>\n",
       "      <td>5446</td>\n",
       "      <td>50</td>\n",
       "      <td>4</td>\n",
       "    </tr>\n",
       "    <tr>\n",
       "      <th>top</th>\n",
       "      <td>New!  La Chada Night Market studio 2PPL near MRT</td>\n",
       "      <td>Curry</td>\n",
       "      <td>Vadhana</td>\n",
       "      <td>Entire home/apt</td>\n",
       "    </tr>\n",
       "    <tr>\n",
       "      <th>freq</th>\n",
       "      <td>45</td>\n",
       "      <td>247</td>\n",
       "      <td>2515</td>\n",
       "      <td>10083</td>\n",
       "    </tr>\n",
       "  </tbody>\n",
       "</table>\n",
       "</div>"
      ],
      "text/plain": [
       "                                                    name host_name  \\\n",
       "count                                              17388     17395   \n",
       "unique                                             15951      5446   \n",
       "top     New!  La Chada Night Market studio 2PPL near MRT     Curry   \n",
       "freq                                                  45       247   \n",
       "\n",
       "       neighbourhood        room_type  \n",
       "count          17396            17396  \n",
       "unique            50                4  \n",
       "top          Vadhana  Entire home/apt  \n",
       "freq            2515            10083  "
      ]
     },
     "metadata": {},
     "output_type": "display_data"
    }
   ],
   "source": [
    "display(df.describe(), df.describe(include='object'))"
   ]
  },
  {
   "cell_type": "markdown",
   "metadata": {},
   "source": [
    "#### Creating a Summary Table"
   ]
  },
  {
   "cell_type": "code",
   "execution_count": 221,
   "metadata": {},
   "outputs": [
    {
     "data": {
      "text/html": [
       "<div>\n",
       "<style scoped>\n",
       "    .dataframe tbody tr th:only-of-type {\n",
       "        vertical-align: middle;\n",
       "    }\n",
       "\n",
       "    .dataframe tbody tr th {\n",
       "        vertical-align: top;\n",
       "    }\n",
       "\n",
       "    .dataframe thead th {\n",
       "        text-align: right;\n",
       "    }\n",
       "</style>\n",
       "<table border=\"1\" class=\"dataframe\">\n",
       "  <thead>\n",
       "    <tr style=\"text-align: right;\">\n",
       "      <th></th>\n",
       "      <th>Column Name</th>\n",
       "      <th>Data Type</th>\n",
       "      <th>Null</th>\n",
       "      <th>Percentage Null</th>\n",
       "      <th>Number of Unique</th>\n",
       "      <th>Unique Sample</th>\n",
       "    </tr>\n",
       "  </thead>\n",
       "  <tbody>\n",
       "    <tr>\n",
       "      <th>0</th>\n",
       "      <td>id</td>\n",
       "      <td>int64</td>\n",
       "      <td>0</td>\n",
       "      <td>0.00%</td>\n",
       "      <td>17396</td>\n",
       "      <td>[27934, 27979, 28745, 35780, 906203, 1657411, ...</td>\n",
       "    </tr>\n",
       "    <tr>\n",
       "      <th>1</th>\n",
       "      <td>name</td>\n",
       "      <td>object</td>\n",
       "      <td>8</td>\n",
       "      <td>0.05%</td>\n",
       "      <td>15951</td>\n",
       "      <td>[Nice room with superb city view, Easy going l...</td>\n",
       "    </tr>\n",
       "    <tr>\n",
       "      <th>2</th>\n",
       "      <td>host_id</td>\n",
       "      <td>int64</td>\n",
       "      <td>0</td>\n",
       "      <td>0.00%</td>\n",
       "      <td>6854</td>\n",
       "      <td>[120437, 120541, 123784, 153730, 4850305, 8362...</td>\n",
       "    </tr>\n",
       "    <tr>\n",
       "      <th>3</th>\n",
       "      <td>host_name</td>\n",
       "      <td>object</td>\n",
       "      <td>1</td>\n",
       "      <td>0.01%</td>\n",
       "      <td>5446</td>\n",
       "      <td>[Nuttee, Emy, Familyroom, Sirilak, Dujdao, Luc...</td>\n",
       "    </tr>\n",
       "    <tr>\n",
       "      <th>4</th>\n",
       "      <td>neighbourhood</td>\n",
       "      <td>object</td>\n",
       "      <td>0</td>\n",
       "      <td>0.00%</td>\n",
       "      <td>50</td>\n",
       "      <td>[Ratchathewi, Bang Na, Bang Kapi, Din Daeng, L...</td>\n",
       "    </tr>\n",
       "    <tr>\n",
       "      <th>5</th>\n",
       "      <td>latitude</td>\n",
       "      <td>float64</td>\n",
       "      <td>0</td>\n",
       "      <td>0.00%</td>\n",
       "      <td>11419</td>\n",
       "      <td>[13.75983, 13.66818, 13.75232, 13.78823, 13.65...</td>\n",
       "    </tr>\n",
       "    <tr>\n",
       "      <th>6</th>\n",
       "      <td>longitude</td>\n",
       "      <td>float64</td>\n",
       "      <td>0</td>\n",
       "      <td>0.00%</td>\n",
       "      <td>12040</td>\n",
       "      <td>[100.54134, 100.61674, 100.62402, 100.57256, 1...</td>\n",
       "    </tr>\n",
       "    <tr>\n",
       "      <th>7</th>\n",
       "      <td>room_type</td>\n",
       "      <td>object</td>\n",
       "      <td>0</td>\n",
       "      <td>0.00%</td>\n",
       "      <td>4</td>\n",
       "      <td>[Entire home/apt, Private room, Hotel room, Sh...</td>\n",
       "    </tr>\n",
       "    <tr>\n",
       "      <th>8</th>\n",
       "      <td>price</td>\n",
       "      <td>int64</td>\n",
       "      <td>0</td>\n",
       "      <td>0.00%</td>\n",
       "      <td>2992</td>\n",
       "      <td>[1885, 1307, 800, 1286, 791, 1302, 1547, 3549,...</td>\n",
       "    </tr>\n",
       "    <tr>\n",
       "      <th>9</th>\n",
       "      <td>minimum_nights</td>\n",
       "      <td>int64</td>\n",
       "      <td>0</td>\n",
       "      <td>0.00%</td>\n",
       "      <td>90</td>\n",
       "      <td>[3, 1, 60, 7, 2, 5, 30, 28, 250, 15, 21, 25, 1...</td>\n",
       "    </tr>\n",
       "    <tr>\n",
       "      <th>10</th>\n",
       "      <td>number_of_reviews</td>\n",
       "      <td>int64</td>\n",
       "      <td>0</td>\n",
       "      <td>0.00%</td>\n",
       "      <td>309</td>\n",
       "      <td>[65, 0, 3, 63, 1, 28, 265, 201, 208, 9, 11, 4,...</td>\n",
       "    </tr>\n",
       "    <tr>\n",
       "      <th>11</th>\n",
       "      <td>reviews_per_month</td>\n",
       "      <td>float64</td>\n",
       "      <td>0</td>\n",
       "      <td>0.00%</td>\n",
       "      <td>575</td>\n",
       "      <td>[0.49, 0.0, 0.04, 0.55, 0.01, 0.19, 2.16, 1.75...</td>\n",
       "    </tr>\n",
       "    <tr>\n",
       "      <th>12</th>\n",
       "      <td>calculated_host_listings_count</td>\n",
       "      <td>int64</td>\n",
       "      <td>0</td>\n",
       "      <td>0.00%</td>\n",
       "      <td>59</td>\n",
       "      <td>[2, 1, 7, 39, 11, 4, 3, 44, 5, 8, 6, 19, 13, 5...</td>\n",
       "    </tr>\n",
       "    <tr>\n",
       "      <th>13</th>\n",
       "      <td>availability_365</td>\n",
       "      <td>int64</td>\n",
       "      <td>0</td>\n",
       "      <td>0.00%</td>\n",
       "      <td>365</td>\n",
       "      <td>[362, 358, 365, 269, 329, 345, 361, 56, 91, 11...</td>\n",
       "    </tr>\n",
       "  </tbody>\n",
       "</table>\n",
       "</div>"
      ],
      "text/plain": [
       "                       Column Name Data Type  Null Percentage Null  \\\n",
       "0                               id     int64     0           0.00%   \n",
       "1                             name    object     8           0.05%   \n",
       "2                          host_id     int64     0           0.00%   \n",
       "3                        host_name    object     1           0.01%   \n",
       "4                    neighbourhood    object     0           0.00%   \n",
       "5                         latitude   float64     0           0.00%   \n",
       "6                        longitude   float64     0           0.00%   \n",
       "7                        room_type    object     0           0.00%   \n",
       "8                            price     int64     0           0.00%   \n",
       "9                   minimum_nights     int64     0           0.00%   \n",
       "10               number_of_reviews     int64     0           0.00%   \n",
       "11               reviews_per_month   float64     0           0.00%   \n",
       "12  calculated_host_listings_count     int64     0           0.00%   \n",
       "13                availability_365     int64     0           0.00%   \n",
       "\n",
       "    Number of Unique                                      Unique Sample  \n",
       "0              17396  [27934, 27979, 28745, 35780, 906203, 1657411, ...  \n",
       "1              15951  [Nice room with superb city view, Easy going l...  \n",
       "2               6854  [120437, 120541, 123784, 153730, 4850305, 8362...  \n",
       "3               5446  [Nuttee, Emy, Familyroom, Sirilak, Dujdao, Luc...  \n",
       "4                 50  [Ratchathewi, Bang Na, Bang Kapi, Din Daeng, L...  \n",
       "5              11419  [13.75983, 13.66818, 13.75232, 13.78823, 13.65...  \n",
       "6              12040  [100.54134, 100.61674, 100.62402, 100.57256, 1...  \n",
       "7                  4  [Entire home/apt, Private room, Hotel room, Sh...  \n",
       "8               2992  [1885, 1307, 800, 1286, 791, 1302, 1547, 3549,...  \n",
       "9                 90  [3, 1, 60, 7, 2, 5, 30, 28, 250, 15, 21, 25, 1...  \n",
       "10               309  [65, 0, 3, 63, 1, 28, 265, 201, 208, 9, 11, 4,...  \n",
       "11               575  [0.49, 0.0, 0.04, 0.55, 0.01, 0.19, 2.16, 1.75...  \n",
       "12                59  [2, 1, 7, 39, 11, 4, 3, 44, 5, 8, 6, 19, 13, 5...  \n",
       "13               365  [362, 358, 365, 269, 329, 345, 361, 56, 91, 11...  "
      ]
     },
     "execution_count": 221,
     "metadata": {},
     "output_type": "execute_result"
    }
   ],
   "source": [
    "listItem = []\n",
    "for col in df.columns :\n",
    "    listItem.append([   col,\n",
    "                        df[col].dtype ,\n",
    "                        df[col].isnull().sum(),\n",
    "                        f\"{(df[col].isnull().sum()/df[col].shape[0])*100:.2f}%\",\n",
    "                        df[col].nunique(),\n",
    "                        df[col].unique()])\n",
    "\n",
    "tabel_Desc = pd.DataFrame(columns=['Column Name','Data Type','Null', 'Percentage Null', 'Number of Unique', 'Unique Sample'],\n",
    "                    data=listItem)\n",
    "tabel_Desc"
   ]
  },
  {
   "cell_type": "markdown",
   "metadata": {},
   "source": [
    "#### Understanding Variable Types"
   ]
  },
  {
   "cell_type": "markdown",
   "metadata": {},
   "source": [
    "Now, we are going to categorize each column based on the variable type to understand the data requirements better."
   ]
  },
  {
   "cell_type": "markdown",
   "metadata": {},
   "source": [
    "| Qualitative Variables | Quantitative Variables |\n",
    "|---|---|\n",
    "| id | latitude |\n",
    "| name | longitude |\n",
    "| host_id | price |\n",
    "| host_name | minimum_nights |\n",
    "| neighbourhood | number_of_reviews |\n",
    "| | reviews_per_month |\n",
    "| | calculated_host_listings_count |\n",
    "| | availability_365 |"
   ]
  },
  {
   "cell_type": "markdown",
   "metadata": {},
   "source": [
    "#### Identifying Outliers"
   ]
  },
  {
   "cell_type": "markdown",
   "metadata": {},
   "source": [
    "Now, let's identify outliers in the relevant quantitative variables to identify abnormal/extreme values."
   ]
  },
  {
   "cell_type": "code",
   "execution_count": 222,
   "metadata": {},
   "outputs": [],
   "source": [
    "# Finding outliers in the data using IQR\n",
    "\n",
    "# Define the function\n",
    "def find_outliers_iqr(data, column):\n",
    "    Q1 = data[column].quantile(0.25)\n",
    "    Q3 = data[column].quantile(0.75)\n",
    "    IQR = Q3 - Q1\n",
    "\n",
    "    lower_bound = Q1 - 1.5 * IQR\n",
    "    upper_bound = Q3 + 1.5 * IQR\n",
    "\n",
    "    outliers = data[(data[column] < lower_bound) | (data[column] > upper_bound)]\n",
    "    return outliers"
   ]
  },
  {
   "cell_type": "markdown",
   "metadata": {},
   "source": [
    "1. Finding outliers in the `Price` column"
   ]
  },
  {
   "cell_type": "code",
   "execution_count": 223,
   "metadata": {},
   "outputs": [
    {
     "name": "stdout",
     "output_type": "stream",
     "text": [
      "                                               name   price\n",
      "9      Newly Renovated 3BR Suite 146sqm BTS Thonglo    4298\n",
      "22                 24Flr- 1br Apt near JJ, MRT, BTS  121313\n",
      "27              Central Bangkok 3 Bedroom Apartment    5620\n",
      "57              Urban Oasis in the heart of Bangkok    5429\n",
      "61              Beautiful Wood Bangkok Resort House    8597\n",
      "...                                             ...     ...\n",
      "17360   1min BTS Stylish Home / Sleep 13 / King Bed   13406\n",
      "17382                          Regent royal place 1    4500\n",
      "17387              3-bedroom apartment (3E 300 sqm)    5500\n",
      "17390                   2-1 Thong lo 4卧别墅 可住10人 可派对    8224\n",
      "17391                   2-2 Thong lo 4卧别墅 可住10人 可派对    8224\n",
      "\n",
      "[1559 rows x 2 columns]\n"
     ]
    }
   ],
   "source": [
    "# Find outliers in 'price' column\n",
    "price_outliers = find_outliers_iqr(df, 'price')\n",
    "\n",
    "# Show the rows with outliers\n",
    "print(price_outliers[['name', 'price']])"
   ]
  },
  {
   "cell_type": "markdown",
   "metadata": {},
   "source": [
    "Visualize the outliers in the `Price` column"
   ]
  },
  {
   "cell_type": "code",
   "execution_count": 224,
   "metadata": {},
   "outputs": [
    {
     "data": {
      "image/png": "[encoded data removed]",
      "text/plain": [
       "<Figure size 1000x600 with 1 Axes>"
      ]
     },
     "metadata": {},
     "output_type": "display_data"
    }
   ],
   "source": [
    "# Set the plot style\n",
    "sns.set(style=\"whitegrid\")\n",
    "\n",
    "# Create a boxplot for the 'price' column\n",
    "plt.figure(figsize=(10, 6))\n",
    "sns.boxplot(data=df, x='price', color='skyblue')\n",
    "\n",
    "# Add a title\n",
    "plt.title('Price Outliers in Bangkok Listings', fontsize=16)\n",
    "plt.show()"
   ]
  },
  {
   "cell_type": "markdown",
   "metadata": {},
   "source": [
    "2. Finding outliers in the `minimum_nights` column"
   ]
  },
  {
   "cell_type": "code",
   "execution_count": 225,
   "metadata": {},
   "outputs": [
    {
     "name": "stdout",
     "output_type": "stream",
     "text": [
      "                                      name  minimum_nights\n",
      "2        modern-style apartment in Bangkok              60\n",
      "30          NEw Pro!!  Bungalow Bkk Centre             250\n",
      "45     Contemporary Modern Duplex-Thong Lo              60\n",
      "52      ICONSIAM River view  on 49th floor             180\n",
      "56     2br apt in Sukhumvit Asoke near BTS              90\n",
      "...                                    ...             ...\n",
      "17140       Near Famous Train Night Market              90\n",
      "17330     1 bed 1 bath MRT Rama 9 Joddfair              90\n",
      "17337         Studio room only 200m to BTS             180\n",
      "17345                           Super idol              80\n",
      "17376      High Fl Chic/Airport rail/Wi-fi              45\n",
      "\n",
      "[805 rows x 2 columns]\n"
     ]
    }
   ],
   "source": [
    "# Find outliers in 'minimum_nights' column\n",
    "price_outliers = find_outliers_iqr(df, 'minimum_nights')\n",
    "\n",
    "# Show the rows with outliers\n",
    "print(price_outliers[['name', 'minimum_nights']])"
   ]
  },
  {
   "cell_type": "code",
   "execution_count": 226,
   "metadata": {},
   "outputs": [
    {
     "data": {
      "image/png": "[encoded data removed]",
      "text/plain": [
       "<Figure size 1000x600 with 1 Axes>"
      ]
     },
     "metadata": {},
     "output_type": "display_data"
    }
   ],
   "source": [
    "# Set the plot style\n",
    "sns.set(style=\"whitegrid\")\n",
    "\n",
    "# Create a boxplot for the 'minimum_nights' column\n",
    "plt.figure(figsize=(10, 6))\n",
    "sns.boxplot(data=df, x='minimum_nights', color='skyblue')\n",
    "\n",
    "# Add a title\n",
    "plt.title('Minimum Nights Outliers in Bangkok Listings', fontsize=16)\n",
    "plt.show()"
   ]
  },
  {
   "cell_type": "markdown",
   "metadata": {},
   "source": [
    "3. Finding outliers in the `number_of_reviews` column"
   ]
  },
  {
   "cell_type": "code",
   "execution_count": 227,
   "metadata": {},
   "outputs": [
    {
     "name": "stdout",
     "output_type": "stream",
     "text": [
      "                                                    name  number_of_reviews\n",
      "0                        Nice room with superb city view                 65\n",
      "5                              Near Suvarnabhumi Airport                 63\n",
      "9           Newly Renovated 3BR Suite 146sqm BTS Thonglo                265\n",
      "10     ❂Citycenter✺Subway station✺Private Bathroom✺A1...                201\n",
      "11          Comfy bedroom near River pier & BTS  Taksin.                208\n",
      "...                                                  ...                ...\n",
      "14267  Bangkok Cheesy-Loft by The Locals (Newly opened)*                 45\n",
      "14268   Bangkok The locals-Loft Ideal for family/friends                 40\n",
      "14314  1BR-BTS Ekamai 300m-Sky Infinity Pool&Gym-Suns...                 55\n",
      "14319      2BR-BTS Ekamai 300m-Sky Infinity Pool&Gym-tub                 67\n",
      "14461         1BR- BTS Ekamai 300m-Sky infinity Pool&Gym                157\n",
      "\n",
      "[2279 rows x 2 columns]\n"
     ]
    }
   ],
   "source": [
    "# Find outliers in 'number_of_reviews' column\n",
    "price_outliers = find_outliers_iqr(df, 'number_of_reviews')\n",
    "\n",
    "# Show the rows with outliers\n",
    "print(price_outliers[['name', 'number_of_reviews']])"
   ]
  },
  {
   "cell_type": "code",
   "execution_count": 228,
   "metadata": {},
   "outputs": [
    {
     "data": {
      "image/png": "[encoded data removed]",
      "text/plain": [
       "<Figure size 1000x600 with 1 Axes>"
      ]
     },
     "metadata": {},
     "output_type": "display_data"
    }
   ],
   "source": [
    "# Set the plot style\n",
    "sns.set(style=\"whitegrid\")\n",
    "\n",
    "# Create a boxplot for the 'number_of_reviews' column\n",
    "plt.figure(figsize=(10, 6))\n",
    "sns.boxplot(data=df, x='number_of_reviews', color='skyblue')\n",
    "\n",
    "# Add a title\n",
    "plt.title('Number of Reviews Outliers in Bangkok Listings', fontsize=16)\n",
    "plt.show()"
   ]
  },
  {
   "cell_type": "markdown",
   "metadata": {},
   "source": [
    "4. Finding outliers in the `reviews_per_month` column"
   ]
  },
  {
   "cell_type": "code",
   "execution_count": 229,
   "metadata": {},
   "outputs": [
    {
     "name": "stdout",
     "output_type": "stream",
     "text": [
      "                                                    name  reviews_per_month\n",
      "9           Newly Renovated 3BR Suite 146sqm BTS Thonglo               2.16\n",
      "39                      The Duplex - Asoke- Luxury 92sqm               2.54\n",
      "58           ❂☀☀☀Perfect Escape☀☀☀Sunny Roof EnSuite☀☀☀☀               3.69\n",
      "60     ☞✪✪✪✪Roomy Studio 4 Family r friends✪No Stairs...               2.58\n",
      "62                  ☞Downtown Central Studio-Bangkok MRT               2.95\n",
      "...                                                  ...                ...\n",
      "17034      1br/Free pool&gym/WIFI-Asok/SukhumvitBTS! 2PP               3.00\n",
      "17035                        Deluxe 1 Bedroom - GYM/WIFI               4.00\n",
      "17151                               Hot Summer三层Loft高级公寓               3.00\n",
      "17159  NEW5minswalk>BTS Eakamai/TV65netflix/Water Mac...               3.00\n",
      "17270                   Awesome 1bed 2min walk BTS Onnut               3.00\n",
      "\n",
      "[1398 rows x 2 columns]\n"
     ]
    }
   ],
   "source": [
    "# Find outliers in 'reviews_per_month' column\n",
    "price_outliers = find_outliers_iqr(df, 'reviews_per_month')\n",
    "\n",
    "# Show the rows with outliers\n",
    "print(price_outliers[['name', 'reviews_per_month']])"
   ]
  },
  {
   "cell_type": "code",
   "execution_count": 230,
   "metadata": {},
   "outputs": [
    {
     "data": {
      "image/png": "[encoded data removed]",
      "text/plain": [
       "<Figure size 1000x600 with 1 Axes>"
      ]
     },
     "metadata": {},
     "output_type": "display_data"
    }
   ],
   "source": [
    "# Set the plot style\n",
    "sns.set(style=\"whitegrid\")\n",
    "\n",
    "# Create a boxplot for the 'reviews_per_month' column\n",
    "plt.figure(figsize=(10, 6))\n",
    "sns.boxplot(data=df, x='reviews_per_month', color='skyblue')\n",
    "\n",
    "# Add a title\n",
    "plt.title('Reviews per Month Outliers in Bangkok Listings', fontsize=16)\n",
    "plt.show()"
   ]
  },
  {
   "cell_type": "markdown",
   "metadata": {},
   "source": [
    "5. Finding outliers in the `calculated_host_listings_count` column"
   ]
  },
  {
   "cell_type": "code",
   "execution_count": 231,
   "metadata": {},
   "outputs": [
    {
     "name": "stdout",
     "output_type": "stream",
     "text": [
      "                                                    name  \\\n",
      "30                        NEw Pro!!  Bungalow Bkk Centre   \n",
      "103                         Spacious Studio kitchen/wifi   \n",
      "107                      2. Bangkok bright Apartment 201   \n",
      "108                    1.Bangkok great value Studio WIFI   \n",
      "111             BKK City Fab Luxx Studio free wifi @1194   \n",
      "...                                                  ...   \n",
      "17317    市中心无敌城市景观雅致一室一厅套房 四面佛1公里 机场20分钟直达素坤逸娜娜 火车夜市10分钟   \n",
      "17333   Perfect location# Pool#Gym@BTS/MRT&2BR#5ppl(116)   \n",
      "17334    Perfect location# Pool#Gym@BTS/MRT&2BR#5ppl(98)   \n",
      "17336  Perfect location# Pool#Gym@BTS/MRT&10F&Max3ppl...   \n",
      "17338   Perfect location# Pool#Gym@BTS/MRT&2BR#5ppl(118)   \n",
      "\n",
      "       calculated_host_listings_count  \n",
      "30                                 44  \n",
      "103                                44  \n",
      "107                                44  \n",
      "108                                44  \n",
      "111                                44  \n",
      "...                               ...  \n",
      "17317                              49  \n",
      "17333                              57  \n",
      "17334                              57  \n",
      "17336                              57  \n",
      "17338                              57  \n",
      "\n",
      "[1736 rows x 2 columns]\n"
     ]
    }
   ],
   "source": [
    "# Find outliers in 'calculated_host_listings_count' column\n",
    "price_outliers = find_outliers_iqr(df, 'calculated_host_listings_count')\n",
    "\n",
    "# Show the rows with outliers\n",
    "print(price_outliers[['name', 'calculated_host_listings_count']])  "
   ]
  },
  {
   "cell_type": "code",
   "execution_count": 232,
   "metadata": {},
   "outputs": [
    {
     "data": {
      "image/png": "[encoded data removed]",
      "text/plain": [
       "<Figure size 1000x600 with 1 Axes>"
      ]
     },
     "metadata": {},
     "output_type": "display_data"
    }
   ],
   "source": [
    "# Set the plot style\n",
    "sns.set(style=\"whitegrid\")\n",
    "\n",
    "# Create a boxplot for the 'calculated_host_listings_count' column\n",
    "plt.figure(figsize=(10, 6))\n",
    "sns.boxplot(data=df, x='calculated_host_listings_count', color='skyblue')\n",
    "\n",
    "# Add a title\n",
    "plt.title('Host Listings Count Outliers in Bangkok Listings', fontsize=16)\n",
    "plt.show()"
   ]
  },
  {
   "cell_type": "markdown",
   "metadata": {},
   "source": [
    "6. Finding outliers in the `availability_365` column"
   ]
  },
  {
   "cell_type": "code",
   "execution_count": 233,
   "metadata": {},
   "outputs": [
    {
     "name": "stdout",
     "output_type": "stream",
     "text": [
      "Empty DataFrame\n",
      "Columns: [name, availability_365]\n",
      "Index: []\n"
     ]
    }
   ],
   "source": [
    "# Find outliers in 'availability_365' column\n",
    "price_outliers = find_outliers_iqr(df, 'availability_365')\n",
    "\n",
    "# Show the rows with outliers\n",
    "print(price_outliers[['name', 'availability_365']])"
   ]
  },
  {
   "cell_type": "code",
   "execution_count": 234,
   "metadata": {},
   "outputs": [
    {
     "data": {
      "image/png": "[encoded data removed]",
      "text/plain": [
       "<Figure size 1000x600 with 1 Axes>"
      ]
     },
     "metadata": {},
     "output_type": "display_data"
    }
   ],
   "source": [
    "# Set the plot style\n",
    "sns.set(style=\"whitegrid\")\n",
    "\n",
    "# Create a boxplot for the 'availability_365' column\n",
    "plt.figure(figsize=(10, 6))\n",
    "sns.boxplot(data=df, x='availability_365', color='skyblue')\n",
    "\n",
    "# Add a title\n",
    "plt.title('Availability Outliers in Bangkok Listings', fontsize=16)\n",
    "plt.show()"
   ]
  },
  {
   "cell_type": "markdown",
   "metadata": {},
   "source": [
    "Since the year 2023 has 365 days, availability should be within 365 days. Hence, there is no abnormal value in the `availability_365` column based on the graph above."
   ]
  },
  {
   "cell_type": "markdown",
   "metadata": {},
   "source": [
    "**Insights:**\n",
    "1. The `id` and `host_id` columns' data type is **integer**, which is incorrect as they are qualitative variables, thus it should be **string**.\n",
    "1. There are null values in `name` and `host_name`\n",
    "1. Outliers exist in some quantitative columns, but the ones that potentially require cleaning would be `minimum_nights` and `review_per_month` since they are time-restricted. Time-restricted values have limitations where they are still considered acceptable vs abnormal."
   ]
  },
  {
   "cell_type": "markdown",
   "metadata": {},
   "source": [
    "### 5. Data Cleaning"
   ]
  },
  {
   "cell_type": "markdown",
   "metadata": {},
   "source": [
    "#### Changing Incorrect Data Types"
   ]
  },
  {
   "cell_type": "code",
   "execution_count": 235,
   "metadata": {},
   "outputs": [
    {
     "name": "stdout",
     "output_type": "stream",
     "text": [
      "Now, the data type of the 'id' column has become object.\n"
     ]
    }
   ],
   "source": [
    "# Changing the data type of the 'id' column\n",
    "df['id'] = df['id'].astype(str)\n",
    "\n",
    "# Check the data type of 'id' now\n",
    "print(f\"Now, the data type of the 'id' column has become {df['id'].dtype}.\")"
   ]
  },
  {
   "cell_type": "code",
   "execution_count": 236,
   "metadata": {},
   "outputs": [
    {
     "name": "stdout",
     "output_type": "stream",
     "text": [
      "Now, the data type of the 'host_id' column has become object.\n"
     ]
    }
   ],
   "source": [
    "# Changing the data type of the 'host_id' column\n",
    "df['host_id'] = df['host_id'].astype(str)\n",
    "\n",
    "# Check the data type of 'host_id' now\n",
    "print(f\"Now, the data type of the 'host_id' column has become {df['host_id'].dtype}.\")"
   ]
  },
  {
   "cell_type": "markdown",
   "metadata": {},
   "source": [
    "#### Handling Null/Missing Values"
   ]
  },
  {
   "cell_type": "markdown",
   "metadata": {},
   "source": [
    "1. The `name` column only acts as a non-unique identifier of a listing. So, the value does not have any specific pattern or rule. We are going to fill up missing values with 'unnamed'."
   ]
  },
  {
   "cell_type": "code",
   "execution_count": 237,
   "metadata": {},
   "outputs": [
    {
     "data": {
      "text/html": [
       "<div>\n",
       "<style scoped>\n",
       "    .dataframe tbody tr th:only-of-type {\n",
       "        vertical-align: middle;\n",
       "    }\n",
       "\n",
       "    .dataframe tbody tr th {\n",
       "        vertical-align: top;\n",
       "    }\n",
       "\n",
       "    .dataframe thead th {\n",
       "        text-align: right;\n",
       "    }\n",
       "</style>\n",
       "<table border=\"1\" class=\"dataframe\">\n",
       "  <thead>\n",
       "    <tr style=\"text-align: right;\">\n",
       "      <th></th>\n",
       "      <th>id</th>\n",
       "      <th>name</th>\n",
       "      <th>host_id</th>\n",
       "      <th>host_name</th>\n",
       "      <th>neighbourhood</th>\n",
       "      <th>latitude</th>\n",
       "      <th>longitude</th>\n",
       "      <th>room_type</th>\n",
       "      <th>price</th>\n",
       "      <th>minimum_nights</th>\n",
       "      <th>number_of_reviews</th>\n",
       "      <th>reviews_per_month</th>\n",
       "      <th>calculated_host_listings_count</th>\n",
       "      <th>availability_365</th>\n",
       "    </tr>\n",
       "  </thead>\n",
       "  <tbody>\n",
       "    <tr>\n",
       "      <th>395</th>\n",
       "      <td>4549768</td>\n",
       "      <td>NaN</td>\n",
       "      <td>18852579</td>\n",
       "      <td>Titawan</td>\n",
       "      <td>Phra Khanong</td>\n",
       "      <td>13.69406</td>\n",
       "      <td>100.59619</td>\n",
       "      <td>Private room</td>\n",
       "      <td>1080</td>\n",
       "      <td>5</td>\n",
       "      <td>0</td>\n",
       "      <td>0.00</td>\n",
       "      <td>1</td>\n",
       "      <td>365</td>\n",
       "    </tr>\n",
       "    <tr>\n",
       "      <th>488</th>\n",
       "      <td>4720818</td>\n",
       "      <td>NaN</td>\n",
       "      <td>24386225</td>\n",
       "      <td>Cherry</td>\n",
       "      <td>Din Daeng</td>\n",
       "      <td>13.77562</td>\n",
       "      <td>100.57346</td>\n",
       "      <td>Private room</td>\n",
       "      <td>1200</td>\n",
       "      <td>1</td>\n",
       "      <td>0</td>\n",
       "      <td>0.00</td>\n",
       "      <td>1</td>\n",
       "      <td>365</td>\n",
       "    </tr>\n",
       "    <tr>\n",
       "      <th>521</th>\n",
       "      <td>4245018</td>\n",
       "      <td>NaN</td>\n",
       "      <td>22030043</td>\n",
       "      <td>Parichart</td>\n",
       "      <td>Bang Phlat</td>\n",
       "      <td>13.78376</td>\n",
       "      <td>100.49821</td>\n",
       "      <td>Private room</td>\n",
       "      <td>1200</td>\n",
       "      <td>1</td>\n",
       "      <td>0</td>\n",
       "      <td>0.00</td>\n",
       "      <td>1</td>\n",
       "      <td>365</td>\n",
       "    </tr>\n",
       "    <tr>\n",
       "      <th>840</th>\n",
       "      <td>6148415</td>\n",
       "      <td>NaN</td>\n",
       "      <td>31895202</td>\n",
       "      <td>Chira</td>\n",
       "      <td>Bang Na</td>\n",
       "      <td>13.68276</td>\n",
       "      <td>100.60894</td>\n",
       "      <td>Entire home/apt</td>\n",
       "      <td>2399</td>\n",
       "      <td>2</td>\n",
       "      <td>0</td>\n",
       "      <td>0.00</td>\n",
       "      <td>1</td>\n",
       "      <td>365</td>\n",
       "    </tr>\n",
       "    <tr>\n",
       "      <th>1152</th>\n",
       "      <td>8055144</td>\n",
       "      <td>NaN</td>\n",
       "      <td>42521288</td>\n",
       "      <td>Nantida</td>\n",
       "      <td>Vadhana</td>\n",
       "      <td>13.74126</td>\n",
       "      <td>100.55761</td>\n",
       "      <td>Private room</td>\n",
       "      <td>5000</td>\n",
       "      <td>3</td>\n",
       "      <td>0</td>\n",
       "      <td>0.00</td>\n",
       "      <td>1</td>\n",
       "      <td>365</td>\n",
       "    </tr>\n",
       "    <tr>\n",
       "      <th>1369</th>\n",
       "      <td>10000742</td>\n",
       "      <td>NaN</td>\n",
       "      <td>51374914</td>\n",
       "      <td>Diamond Bangkok</td>\n",
       "      <td>Ratchathewi</td>\n",
       "      <td>13.75328</td>\n",
       "      <td>100.52928</td>\n",
       "      <td>Private room</td>\n",
       "      <td>930</td>\n",
       "      <td>1</td>\n",
       "      <td>6</td>\n",
       "      <td>0.07</td>\n",
       "      <td>1</td>\n",
       "      <td>364</td>\n",
       "    </tr>\n",
       "    <tr>\n",
       "      <th>1612</th>\n",
       "      <td>10710165</td>\n",
       "      <td>NaN</td>\n",
       "      <td>55347997</td>\n",
       "      <td>Khaneungnit</td>\n",
       "      <td>Vadhana</td>\n",
       "      <td>13.71757</td>\n",
       "      <td>100.60464</td>\n",
       "      <td>Private room</td>\n",
       "      <td>1000</td>\n",
       "      <td>1</td>\n",
       "      <td>0</td>\n",
       "      <td>0.00</td>\n",
       "      <td>1</td>\n",
       "      <td>365</td>\n",
       "    </tr>\n",
       "    <tr>\n",
       "      <th>2045</th>\n",
       "      <td>13142743</td>\n",
       "      <td>NaN</td>\n",
       "      <td>73275200</td>\n",
       "      <td>Pakaphol</td>\n",
       "      <td>Khlong Toei</td>\n",
       "      <td>13.72566</td>\n",
       "      <td>100.56416</td>\n",
       "      <td>Private room</td>\n",
       "      <td>850</td>\n",
       "      <td>1</td>\n",
       "      <td>2</td>\n",
       "      <td>0.03</td>\n",
       "      <td>3</td>\n",
       "      <td>304</td>\n",
       "    </tr>\n",
       "  </tbody>\n",
       "</table>\n",
       "</div>"
      ],
      "text/plain": [
       "            id name   host_id        host_name neighbourhood  latitude  \\\n",
       "395    4549768  NaN  18852579          Titawan  Phra Khanong  13.69406   \n",
       "488    4720818  NaN  24386225           Cherry     Din Daeng  13.77562   \n",
       "521    4245018  NaN  22030043        Parichart    Bang Phlat  13.78376   \n",
       "840    6148415  NaN  31895202            Chira       Bang Na  13.68276   \n",
       "1152   8055144  NaN  42521288          Nantida       Vadhana  13.74126   \n",
       "1369  10000742  NaN  51374914  Diamond Bangkok   Ratchathewi  13.75328   \n",
       "1612  10710165  NaN  55347997      Khaneungnit       Vadhana  13.71757   \n",
       "2045  13142743  NaN  73275200         Pakaphol   Khlong Toei  13.72566   \n",
       "\n",
       "      longitude        room_type  price  minimum_nights  number_of_reviews  \\\n",
       "395   100.59619     Private room   1080               5                  0   \n",
       "488   100.57346     Private room   1200               1                  0   \n",
       "521   100.49821     Private room   1200               1                  0   \n",
       "840   100.60894  Entire home/apt   2399               2                  0   \n",
       "1152  100.55761     Private room   5000               3                  0   \n",
       "1369  100.52928     Private room    930               1                  6   \n",
       "1612  100.60464     Private room   1000               1                  0   \n",
       "2045  100.56416     Private room    850               1                  2   \n",
       "\n",
       "      reviews_per_month  calculated_host_listings_count  availability_365  \n",
       "395                0.00                               1               365  \n",
       "488                0.00                               1               365  \n",
       "521                0.00                               1               365  \n",
       "840                0.00                               1               365  \n",
       "1152               0.00                               1               365  \n",
       "1369               0.07                               1               364  \n",
       "1612               0.00                               1               365  \n",
       "2045               0.03                               3               304  "
      ]
     },
     "execution_count": 237,
     "metadata": {},
     "output_type": "execute_result"
    }
   ],
   "source": [
    "# Check the columns where 'name' is null\n",
    "df[df['name'].isnull()]"
   ]
  },
  {
   "cell_type": "code",
   "execution_count": 238,
   "metadata": {},
   "outputs": [
    {
     "name": "stdout",
     "output_type": "stream",
     "text": [
      "Currently, the number of null value(s) in the 'name' column is 0.\n"
     ]
    },
    {
     "name": "stderr",
     "output_type": "stream",
     "text": [
      "C:\\Users\\cindy.TESS\\AppData\\Local\\Temp\\ipykernel_18208\\339419567.py:2: FutureWarning: A value is trying to be set on a copy of a DataFrame or Series through chained assignment using an inplace method.\n",
      "The behavior will change in pandas 3.0. This inplace method will never work because the intermediate object on which we are setting values always behaves as a copy.\n",
      "\n",
      "For example, when doing 'df[col].method(value, inplace=True)', try using 'df.method({col: value}, inplace=True)' or df[col] = df[col].method(value) instead, to perform the operation inplace on the original object.\n",
      "\n",
      "\n",
      "  df['name'].fillna('Unnamed', inplace=True)\n"
     ]
    }
   ],
   "source": [
    "# Fill null values in the 'name' column with 'Unnamed'\n",
    "df['name'].fillna('Unnamed', inplace=True)\n",
    "\n",
    "# Check if it worked\n",
    "print(f\"Currently, the number of null value(s) in the 'name' column is {df['name'].isnull().sum()}.\")"
   ]
  },
  {
   "cell_type": "markdown",
   "metadata": {},
   "source": [
    "2. The `host_name` column shows the name of the host owning the listing. In the table, there is another identifier for host, which is `host_id`. We are going to check what the value in the `host_id` column on the row where `host_name` value is missing."
   ]
  },
  {
   "cell_type": "code",
   "execution_count": 239,
   "metadata": {},
   "outputs": [
    {
     "data": {
      "text/html": [
       "<div>\n",
       "<style scoped>\n",
       "    .dataframe tbody tr th:only-of-type {\n",
       "        vertical-align: middle;\n",
       "    }\n",
       "\n",
       "    .dataframe tbody tr th {\n",
       "        vertical-align: top;\n",
       "    }\n",
       "\n",
       "    .dataframe thead th {\n",
       "        text-align: right;\n",
       "    }\n",
       "</style>\n",
       "<table border=\"1\" class=\"dataframe\">\n",
       "  <thead>\n",
       "    <tr style=\"text-align: right;\">\n",
       "      <th></th>\n",
       "      <th>id</th>\n",
       "      <th>name</th>\n",
       "      <th>host_id</th>\n",
       "      <th>host_name</th>\n",
       "      <th>neighbourhood</th>\n",
       "      <th>latitude</th>\n",
       "      <th>longitude</th>\n",
       "      <th>room_type</th>\n",
       "      <th>price</th>\n",
       "      <th>minimum_nights</th>\n",
       "      <th>number_of_reviews</th>\n",
       "      <th>reviews_per_month</th>\n",
       "      <th>calculated_host_listings_count</th>\n",
       "      <th>availability_365</th>\n",
       "    </tr>\n",
       "  </thead>\n",
       "  <tbody>\n",
       "    <tr>\n",
       "      <th>3487</th>\n",
       "      <td>19682464</td>\n",
       "      <td>Cozy Hideaway</td>\n",
       "      <td>137488762</td>\n",
       "      <td>NaN</td>\n",
       "      <td>Bang Kapi</td>\n",
       "      <td>13.76999</td>\n",
       "      <td>100.63769</td>\n",
       "      <td>Private room</td>\n",
       "      <td>1399</td>\n",
       "      <td>3</td>\n",
       "      <td>1</td>\n",
       "      <td>0.01</td>\n",
       "      <td>1</td>\n",
       "      <td>365</td>\n",
       "    </tr>\n",
       "  </tbody>\n",
       "</table>\n",
       "</div>"
      ],
      "text/plain": [
       "            id           name    host_id host_name neighbourhood  latitude  \\\n",
       "3487  19682464  Cozy Hideaway  137488762       NaN     Bang Kapi  13.76999   \n",
       "\n",
       "      longitude     room_type  price  minimum_nights  number_of_reviews  \\\n",
       "3487  100.63769  Private room   1399               3                  1   \n",
       "\n",
       "      reviews_per_month  calculated_host_listings_count  availability_365  \n",
       "3487               0.01                               1               365  "
      ]
     },
     "execution_count": 239,
     "metadata": {},
     "output_type": "execute_result"
    }
   ],
   "source": [
    "# Check the columns where 'host_name' is null\n",
    "df[df['host_name'].isnull()]"
   ]
  },
  {
   "cell_type": "code",
   "execution_count": 240,
   "metadata": {},
   "outputs": [
    {
     "data": {
      "text/html": [
       "<div>\n",
       "<style scoped>\n",
       "    .dataframe tbody tr th:only-of-type {\n",
       "        vertical-align: middle;\n",
       "    }\n",
       "\n",
       "    .dataframe tbody tr th {\n",
       "        vertical-align: top;\n",
       "    }\n",
       "\n",
       "    .dataframe thead th {\n",
       "        text-align: right;\n",
       "    }\n",
       "</style>\n",
       "<table border=\"1\" class=\"dataframe\">\n",
       "  <thead>\n",
       "    <tr style=\"text-align: right;\">\n",
       "      <th></th>\n",
       "      <th>id</th>\n",
       "      <th>name</th>\n",
       "      <th>host_id</th>\n",
       "      <th>host_name</th>\n",
       "      <th>neighbourhood</th>\n",
       "      <th>latitude</th>\n",
       "      <th>longitude</th>\n",
       "      <th>room_type</th>\n",
       "      <th>price</th>\n",
       "      <th>minimum_nights</th>\n",
       "      <th>number_of_reviews</th>\n",
       "      <th>reviews_per_month</th>\n",
       "      <th>calculated_host_listings_count</th>\n",
       "      <th>availability_365</th>\n",
       "    </tr>\n",
       "  </thead>\n",
       "  <tbody>\n",
       "    <tr>\n",
       "      <th>3487</th>\n",
       "      <td>19682464</td>\n",
       "      <td>Cozy Hideaway</td>\n",
       "      <td>137488762</td>\n",
       "      <td>NaN</td>\n",
       "      <td>Bang Kapi</td>\n",
       "      <td>13.76999</td>\n",
       "      <td>100.63769</td>\n",
       "      <td>Private room</td>\n",
       "      <td>1399</td>\n",
       "      <td>3</td>\n",
       "      <td>1</td>\n",
       "      <td>0.01</td>\n",
       "      <td>1</td>\n",
       "      <td>365</td>\n",
       "    </tr>\n",
       "  </tbody>\n",
       "</table>\n",
       "</div>"
      ],
      "text/plain": [
       "            id           name    host_id host_name neighbourhood  latitude  \\\n",
       "3487  19682464  Cozy Hideaway  137488762       NaN     Bang Kapi  13.76999   \n",
       "\n",
       "      longitude     room_type  price  minimum_nights  number_of_reviews  \\\n",
       "3487  100.63769  Private room   1399               3                  1   \n",
       "\n",
       "      reviews_per_month  calculated_host_listings_count  availability_365  \n",
       "3487               0.01                               1               365  "
      ]
     },
     "execution_count": 240,
     "metadata": {},
     "output_type": "execute_result"
    }
   ],
   "source": [
    "# Display all columns with the same host_id\n",
    "df[df['host_id']=='137488762']"
   ]
  },
  {
   "cell_type": "markdown",
   "metadata": {},
   "source": [
    "Because there is no other row with the same host_id, we will use the host_id as host_name."
   ]
  },
  {
   "cell_type": "code",
   "execution_count": 241,
   "metadata": {},
   "outputs": [
    {
     "name": "stdout",
     "output_type": "stream",
     "text": [
      "Currently, the number of null value(s) in the 'host_name' column is 0.\n"
     ]
    },
    {
     "name": "stderr",
     "output_type": "stream",
     "text": [
      "C:\\Users\\cindy.TESS\\AppData\\Local\\Temp\\ipykernel_18208\\2218461137.py:2: FutureWarning: A value is trying to be set on a copy of a DataFrame or Series through chained assignment using an inplace method.\n",
      "The behavior will change in pandas 3.0. This inplace method will never work because the intermediate object on which we are setting values always behaves as a copy.\n",
      "\n",
      "For example, when doing 'df[col].method(value, inplace=True)', try using 'df.method({col: value}, inplace=True)' or df[col] = df[col].method(value) instead, to perform the operation inplace on the original object.\n",
      "\n",
      "\n",
      "  df['host_name'].fillna(df['host_id'],inplace=True)\n"
     ]
    }
   ],
   "source": [
    "# Fill empty host_name with its host_id\n",
    "df['host_name'].fillna(df['host_id'],inplace=True)\n",
    "\n",
    "# Check if it worked\n",
    "print(f\"Currently, the number of null value(s) in the 'host_name' column is {df['host_name'].isnull().sum()}.\")"
   ]
  },
  {
   "cell_type": "markdown",
   "metadata": {},
   "source": [
    "#### Handling Outliers"
   ]
  },
  {
   "cell_type": "markdown",
   "metadata": {},
   "source": [
    "Next, we will handle outliers in the `review_per_month` column."
   ]
  },
  {
   "cell_type": "markdown",
   "metadata": {},
   "source": [
    "Since we have the `minimum_nights` data, we can determine the realistic values of `review_per_month` per listing.\n",
    "\n",
    "However, there is also additional information to be taken into account. Airbnb has a policy that user can only leave a review a maximum of 14 (fourteen) days after checkout (Source: https://www.airbnb.com/help/article/995). So, there could be carry-overs from the previous month."
   ]
  },
  {
   "cell_type": "code",
   "execution_count": 242,
   "metadata": {},
   "outputs": [],
   "source": [
    "# Create a function to calculate realistic number of review per month\n",
    "\n",
    "def max_rpm_calc(min_nights:int):\n",
    "    # Calculate maximum number of stays per month\n",
    "    max_num_stay = 30/min_nights\n",
    "\n",
    "    # Calculate maximum number of carry-over from the previous month\n",
    "    max_carry_over = 14/min_nights\n",
    "\n",
    "    # Assuming the first month has maximum carry-over from the previous year, let's calculate the maximum average review per month\n",
    "    max_avg_rpm = ((max_num_stay*12)+max_carry_over)/12\n",
    "    \n",
    "    return max_avg_rpm\n"
   ]
  },
  {
   "cell_type": "code",
   "execution_count": 243,
   "metadata": {},
   "outputs": [
    {
     "data": {
      "text/html": [
       "<div>\n",
       "<style scoped>\n",
       "    .dataframe tbody tr th:only-of-type {\n",
       "        vertical-align: middle;\n",
       "    }\n",
       "\n",
       "    .dataframe tbody tr th {\n",
       "        vertical-align: top;\n",
       "    }\n",
       "\n",
       "    .dataframe thead th {\n",
       "        text-align: right;\n",
       "    }\n",
       "</style>\n",
       "<table border=\"1\" class=\"dataframe\">\n",
       "  <thead>\n",
       "    <tr style=\"text-align: right;\">\n",
       "      <th></th>\n",
       "      <th>id</th>\n",
       "      <th>name</th>\n",
       "      <th>host_id</th>\n",
       "      <th>host_name</th>\n",
       "      <th>neighbourhood</th>\n",
       "      <th>latitude</th>\n",
       "      <th>longitude</th>\n",
       "      <th>room_type</th>\n",
       "      <th>price</th>\n",
       "      <th>minimum_nights</th>\n",
       "      <th>number_of_reviews</th>\n",
       "      <th>reviews_per_month</th>\n",
       "      <th>calculated_host_listings_count</th>\n",
       "      <th>availability_365</th>\n",
       "      <th>max_rpm</th>\n",
       "    </tr>\n",
       "  </thead>\n",
       "  <tbody>\n",
       "    <tr>\n",
       "      <th>0</th>\n",
       "      <td>27934</td>\n",
       "      <td>Nice room with superb city view</td>\n",
       "      <td>120437</td>\n",
       "      <td>Nuttee</td>\n",
       "      <td>Ratchathewi</td>\n",
       "      <td>13.75983</td>\n",
       "      <td>100.54134</td>\n",
       "      <td>Entire home/apt</td>\n",
       "      <td>1885</td>\n",
       "      <td>3</td>\n",
       "      <td>65</td>\n",
       "      <td>0.49</td>\n",
       "      <td>2</td>\n",
       "      <td>362</td>\n",
       "      <td>10.388889</td>\n",
       "    </tr>\n",
       "    <tr>\n",
       "      <th>1</th>\n",
       "      <td>27979</td>\n",
       "      <td>Easy going landlord,easy place</td>\n",
       "      <td>120541</td>\n",
       "      <td>Emy</td>\n",
       "      <td>Bang Na</td>\n",
       "      <td>13.66818</td>\n",
       "      <td>100.61674</td>\n",
       "      <td>Private room</td>\n",
       "      <td>1307</td>\n",
       "      <td>1</td>\n",
       "      <td>0</td>\n",
       "      <td>0.00</td>\n",
       "      <td>2</td>\n",
       "      <td>358</td>\n",
       "      <td>31.166667</td>\n",
       "    </tr>\n",
       "    <tr>\n",
       "      <th>2</th>\n",
       "      <td>28745</td>\n",
       "      <td>modern-style apartment in Bangkok</td>\n",
       "      <td>123784</td>\n",
       "      <td>Familyroom</td>\n",
       "      <td>Bang Kapi</td>\n",
       "      <td>13.75232</td>\n",
       "      <td>100.62402</td>\n",
       "      <td>Private room</td>\n",
       "      <td>800</td>\n",
       "      <td>60</td>\n",
       "      <td>0</td>\n",
       "      <td>0.00</td>\n",
       "      <td>1</td>\n",
       "      <td>365</td>\n",
       "      <td>0.519444</td>\n",
       "    </tr>\n",
       "    <tr>\n",
       "      <th>3</th>\n",
       "      <td>35780</td>\n",
       "      <td>Spacious one bedroom at The Kris Condo Bldg. 3</td>\n",
       "      <td>153730</td>\n",
       "      <td>Sirilak</td>\n",
       "      <td>Din Daeng</td>\n",
       "      <td>13.78823</td>\n",
       "      <td>100.57256</td>\n",
       "      <td>Private room</td>\n",
       "      <td>1286</td>\n",
       "      <td>7</td>\n",
       "      <td>3</td>\n",
       "      <td>0.04</td>\n",
       "      <td>1</td>\n",
       "      <td>358</td>\n",
       "      <td>4.452381</td>\n",
       "    </tr>\n",
       "    <tr>\n",
       "      <th>4</th>\n",
       "      <td>906203</td>\n",
       "      <td>1 BR on Srinakrin Rd. Parkland</td>\n",
       "      <td>4850305</td>\n",
       "      <td>Dujdao</td>\n",
       "      <td>Bang Na</td>\n",
       "      <td>13.65441</td>\n",
       "      <td>100.64548</td>\n",
       "      <td>Private room</td>\n",
       "      <td>791</td>\n",
       "      <td>1</td>\n",
       "      <td>0</td>\n",
       "      <td>0.00</td>\n",
       "      <td>1</td>\n",
       "      <td>365</td>\n",
       "      <td>31.166667</td>\n",
       "    </tr>\n",
       "  </tbody>\n",
       "</table>\n",
       "</div>"
      ],
      "text/plain": [
       "       id                                            name  host_id  \\\n",
       "0   27934                 Nice room with superb city view   120437   \n",
       "1   27979                  Easy going landlord,easy place   120541   \n",
       "2   28745               modern-style apartment in Bangkok   123784   \n",
       "3   35780  Spacious one bedroom at The Kris Condo Bldg. 3   153730   \n",
       "4  906203                  1 BR on Srinakrin Rd. Parkland  4850305   \n",
       "\n",
       "    host_name neighbourhood  latitude  longitude        room_type  price  \\\n",
       "0      Nuttee   Ratchathewi  13.75983  100.54134  Entire home/apt   1885   \n",
       "1         Emy       Bang Na  13.66818  100.61674     Private room   1307   \n",
       "2  Familyroom     Bang Kapi  13.75232  100.62402     Private room    800   \n",
       "3     Sirilak     Din Daeng  13.78823  100.57256     Private room   1286   \n",
       "4      Dujdao       Bang Na  13.65441  100.64548     Private room    791   \n",
       "\n",
       "   minimum_nights  number_of_reviews  reviews_per_month  \\\n",
       "0               3                 65               0.49   \n",
       "1               1                  0               0.00   \n",
       "2              60                  0               0.00   \n",
       "3               7                  3               0.04   \n",
       "4               1                  0               0.00   \n",
       "\n",
       "   calculated_host_listings_count  availability_365    max_rpm  \n",
       "0                               2               362  10.388889  \n",
       "1                               2               358  31.166667  \n",
       "2                               1               365   0.519444  \n",
       "3                               1               358   4.452381  \n",
       "4                               1               365  31.166667  "
      ]
     },
     "execution_count": 243,
     "metadata": {},
     "output_type": "execute_result"
    }
   ],
   "source": [
    "# Create a new column to store this value\n",
    "df['max_rpm'] = df['minimum_nights'].apply(lambda x: max_rpm_calc(x))\n",
    "\n",
    "df.head()"
   ]
  },
  {
   "cell_type": "markdown",
   "metadata": {},
   "source": [
    "If `review_per_month` is more than `max_rpm`, the data is most likely false."
   ]
  },
  {
   "cell_type": "markdown",
   "metadata": {},
   "source": [
    "Assume we want a confidence level of at least 90%. We will see how many rows have significantly different `review_per_month` and `max_rpm` values (more than 10%)."
   ]
  },
  {
   "cell_type": "code",
   "execution_count": 244,
   "metadata": {},
   "outputs": [
    {
     "name": "stdout",
     "output_type": "stream",
     "text": [
      "There are 415 (2.3856058864106693%) rows containing an unrealistic review per month value.\n"
     ]
    }
   ],
   "source": [
    "# See if there are such rows\n",
    "\n",
    "print(f\"There are {len(df[((df['reviews_per_month']-df['max_rpm'])/df['max_rpm'] * 100) > 10])} ({len(df[((df['reviews_per_month']-df['max_rpm'])/df['max_rpm'] * 100) > 10]) / len(df) * 100}%) rows containing an unrealistic review per month value.\")\n"
   ]
  },
  {
   "cell_type": "markdown",
   "metadata": {},
   "source": [
    "Because the number of abnormal rows is insignificant (less than 5%), we will drop the columns."
   ]
  },
  {
   "cell_type": "code",
   "execution_count": 245,
   "metadata": {},
   "outputs": [],
   "source": [
    "df = df[((df['reviews_per_month']-df['max_rpm'])/df['max_rpm'] * 100) <= 10]"
   ]
  },
  {
   "cell_type": "code",
   "execution_count": 246,
   "metadata": {},
   "outputs": [],
   "source": [
    "# Dropping the max_rpm column\n",
    "df = df.drop('max_rpm', axis=1)"
   ]
  },
  {
   "cell_type": "markdown",
   "metadata": {},
   "source": [
    "#### Checking cleaned up data"
   ]
  },
  {
   "cell_type": "code",
   "execution_count": 247,
   "metadata": {},
   "outputs": [
    {
     "name": "stdout",
     "output_type": "stream",
     "text": [
      "(16981, 14)\n"
     ]
    },
    {
     "data": {
      "text/html": [
       "<div>\n",
       "<style scoped>\n",
       "    .dataframe tbody tr th:only-of-type {\n",
       "        vertical-align: middle;\n",
       "    }\n",
       "\n",
       "    .dataframe tbody tr th {\n",
       "        vertical-align: top;\n",
       "    }\n",
       "\n",
       "    .dataframe thead th {\n",
       "        text-align: right;\n",
       "    }\n",
       "</style>\n",
       "<table border=\"1\" class=\"dataframe\">\n",
       "  <thead>\n",
       "    <tr style=\"text-align: right;\">\n",
       "      <th></th>\n",
       "      <th>Column Name</th>\n",
       "      <th>Data Type</th>\n",
       "      <th>Null</th>\n",
       "      <th>Percentace Null</th>\n",
       "      <th>Number of Unique</th>\n",
       "      <th>Unique Sample</th>\n",
       "    </tr>\n",
       "  </thead>\n",
       "  <tbody>\n",
       "    <tr>\n",
       "      <th>0</th>\n",
       "      <td>id</td>\n",
       "      <td>object</td>\n",
       "      <td>0</td>\n",
       "      <td>0.00%</td>\n",
       "      <td>16981</td>\n",
       "      <td>[27934, 27979, 28745, 35780, 906203, 1657411, ...</td>\n",
       "    </tr>\n",
       "    <tr>\n",
       "      <th>1</th>\n",
       "      <td>name</td>\n",
       "      <td>object</td>\n",
       "      <td>0</td>\n",
       "      <td>0.00%</td>\n",
       "      <td>15577</td>\n",
       "      <td>[Nice room with superb city view, Easy going l...</td>\n",
       "    </tr>\n",
       "    <tr>\n",
       "      <th>2</th>\n",
       "      <td>host_id</td>\n",
       "      <td>object</td>\n",
       "      <td>0</td>\n",
       "      <td>0.00%</td>\n",
       "      <td>6766</td>\n",
       "      <td>[120437, 120541, 123784, 153730, 4850305, 8362...</td>\n",
       "    </tr>\n",
       "    <tr>\n",
       "      <th>3</th>\n",
       "      <td>host_name</td>\n",
       "      <td>object</td>\n",
       "      <td>0</td>\n",
       "      <td>0.00%</td>\n",
       "      <td>5393</td>\n",
       "      <td>[Nuttee, Emy, Familyroom, Sirilak, Dujdao, Luc...</td>\n",
       "    </tr>\n",
       "    <tr>\n",
       "      <th>4</th>\n",
       "      <td>neighbourhood</td>\n",
       "      <td>object</td>\n",
       "      <td>0</td>\n",
       "      <td>0.00%</td>\n",
       "      <td>50</td>\n",
       "      <td>[Ratchathewi, Bang Na, Bang Kapi, Din Daeng, L...</td>\n",
       "    </tr>\n",
       "    <tr>\n",
       "      <th>5</th>\n",
       "      <td>latitude</td>\n",
       "      <td>float64</td>\n",
       "      <td>0</td>\n",
       "      <td>0.00%</td>\n",
       "      <td>11236</td>\n",
       "      <td>[13.75983, 13.66818, 13.75232, 13.78823, 13.65...</td>\n",
       "    </tr>\n",
       "    <tr>\n",
       "      <th>6</th>\n",
       "      <td>longitude</td>\n",
       "      <td>float64</td>\n",
       "      <td>0</td>\n",
       "      <td>0.00%</td>\n",
       "      <td>11860</td>\n",
       "      <td>[100.54134, 100.61674, 100.62402, 100.57256, 1...</td>\n",
       "    </tr>\n",
       "    <tr>\n",
       "      <th>7</th>\n",
       "      <td>room_type</td>\n",
       "      <td>object</td>\n",
       "      <td>0</td>\n",
       "      <td>0.00%</td>\n",
       "      <td>4</td>\n",
       "      <td>[Entire home/apt, Private room, Hotel room, Sh...</td>\n",
       "    </tr>\n",
       "    <tr>\n",
       "      <th>8</th>\n",
       "      <td>price</td>\n",
       "      <td>int64</td>\n",
       "      <td>0</td>\n",
       "      <td>0.00%</td>\n",
       "      <td>2969</td>\n",
       "      <td>[1885, 1307, 800, 1286, 791, 1302, 1547, 3549,...</td>\n",
       "    </tr>\n",
       "    <tr>\n",
       "      <th>9</th>\n",
       "      <td>minimum_nights</td>\n",
       "      <td>int64</td>\n",
       "      <td>0</td>\n",
       "      <td>0.00%</td>\n",
       "      <td>81</td>\n",
       "      <td>[3, 1, 60, 7, 2, 5, 30, 28, 15, 25, 180, 90, 4...</td>\n",
       "    </tr>\n",
       "    <tr>\n",
       "      <th>10</th>\n",
       "      <td>number_of_reviews</td>\n",
       "      <td>int64</td>\n",
       "      <td>0</td>\n",
       "      <td>0.00%</td>\n",
       "      <td>299</td>\n",
       "      <td>[65, 0, 3, 63, 1, 28, 265, 201, 208, 9, 11, 4,...</td>\n",
       "    </tr>\n",
       "    <tr>\n",
       "      <th>11</th>\n",
       "      <td>reviews_per_month</td>\n",
       "      <td>float64</td>\n",
       "      <td>0</td>\n",
       "      <td>0.00%</td>\n",
       "      <td>570</td>\n",
       "      <td>[0.49, 0.0, 0.04, 0.55, 0.01, 0.19, 2.16, 1.75...</td>\n",
       "    </tr>\n",
       "    <tr>\n",
       "      <th>12</th>\n",
       "      <td>calculated_host_listings_count</td>\n",
       "      <td>int64</td>\n",
       "      <td>0</td>\n",
       "      <td>0.00%</td>\n",
       "      <td>59</td>\n",
       "      <td>[2, 1, 7, 39, 11, 4, 3, 5, 8, 6, 44, 19, 13, 5...</td>\n",
       "    </tr>\n",
       "    <tr>\n",
       "      <th>13</th>\n",
       "      <td>availability_365</td>\n",
       "      <td>int64</td>\n",
       "      <td>0</td>\n",
       "      <td>0.00%</td>\n",
       "      <td>365</td>\n",
       "      <td>[362, 358, 365, 269, 329, 345, 361, 56, 91, 11...</td>\n",
       "    </tr>\n",
       "  </tbody>\n",
       "</table>\n",
       "</div>"
      ],
      "text/plain": [
       "                       Column Name Data Type  Null Percentace Null  \\\n",
       "0                               id    object     0           0.00%   \n",
       "1                             name    object     0           0.00%   \n",
       "2                          host_id    object     0           0.00%   \n",
       "3                        host_name    object     0           0.00%   \n",
       "4                    neighbourhood    object     0           0.00%   \n",
       "5                         latitude   float64     0           0.00%   \n",
       "6                        longitude   float64     0           0.00%   \n",
       "7                        room_type    object     0           0.00%   \n",
       "8                            price     int64     0           0.00%   \n",
       "9                   minimum_nights     int64     0           0.00%   \n",
       "10               number_of_reviews     int64     0           0.00%   \n",
       "11               reviews_per_month   float64     0           0.00%   \n",
       "12  calculated_host_listings_count     int64     0           0.00%   \n",
       "13                availability_365     int64     0           0.00%   \n",
       "\n",
       "    Number of Unique                                      Unique Sample  \n",
       "0              16981  [27934, 27979, 28745, 35780, 906203, 1657411, ...  \n",
       "1              15577  [Nice room with superb city view, Easy going l...  \n",
       "2               6766  [120437, 120541, 123784, 153730, 4850305, 8362...  \n",
       "3               5393  [Nuttee, Emy, Familyroom, Sirilak, Dujdao, Luc...  \n",
       "4                 50  [Ratchathewi, Bang Na, Bang Kapi, Din Daeng, L...  \n",
       "5              11236  [13.75983, 13.66818, 13.75232, 13.78823, 13.65...  \n",
       "6              11860  [100.54134, 100.61674, 100.62402, 100.57256, 1...  \n",
       "7                  4  [Entire home/apt, Private room, Hotel room, Sh...  \n",
       "8               2969  [1885, 1307, 800, 1286, 791, 1302, 1547, 3549,...  \n",
       "9                 81  [3, 1, 60, 7, 2, 5, 30, 28, 15, 25, 180, 90, 4...  \n",
       "10               299  [65, 0, 3, 63, 1, 28, 265, 201, 208, 9, 11, 4,...  \n",
       "11               570  [0.49, 0.0, 0.04, 0.55, 0.01, 0.19, 2.16, 1.75...  \n",
       "12                59  [2, 1, 7, 39, 11, 4, 3, 5, 8, 6, 44, 19, 13, 5...  \n",
       "13               365  [362, 358, 365, 269, 329, 345, 361, 56, 91, 11...  "
      ]
     },
     "execution_count": 247,
     "metadata": {},
     "output_type": "execute_result"
    }
   ],
   "source": [
    "listItem = []\n",
    "for col in df.columns :\n",
    "    listItem.append([   col,\n",
    "                        df[col].dtype ,\n",
    "                        df[col].isnull().sum(),\n",
    "                        f\"{(df[col].isnull().sum()/df[col].shape[0])*100:.2f}%\",\n",
    "                        df[col].nunique(),\n",
    "                        df[col].unique()])\n",
    "\n",
    "tabel_Desc = pd.DataFrame(columns=['Column Name','Data Type','Null', 'Percentace Null', 'Number of Unique', 'Unique Sample'],\n",
    "                    data=listItem)\n",
    "\n",
    "print(df.shape)\n",
    "tabel_Desc"
   ]
  },
  {
   "cell_type": "code",
   "execution_count": 248,
   "metadata": {},
   "outputs": [
    {
     "name": "stdout",
     "output_type": "stream",
     "text": [
      "The numbers of rows and columns in the cleaned dataset are (16981, 14)\n"
     ]
    }
   ],
   "source": [
    "print(f'The numbers of rows and columns in the cleaned dataset are {df.shape}')"
   ]
  },
  {
   "cell_type": "markdown",
   "metadata": {},
   "source": [
    "### 6. Exploratory Data Analysis (EDA)"
   ]
  },
  {
   "cell_type": "markdown",
   "metadata": {},
   "source": [
    "#### 1. Finding the pricing tendency"
   ]
  },
  {
   "cell_type": "markdown",
   "metadata": {},
   "source": [
    "First, we are going to find the average price of Airbnbs in 2023. This is to land on a reasonable price conclusion and understand the method by which the central tendency is best measured."
   ]
  },
  {
   "cell_type": "code",
   "execution_count": 249,
   "metadata": {},
   "outputs": [
    {
     "data": {
      "text/plain": [
       "count      16981.000000\n",
       "mean        2737.403686\n",
       "std        16715.217264\n",
       "min          278.000000\n",
       "25%          900.000000\n",
       "50%         1389.000000\n",
       "75%         2250.000000\n",
       "max      1000000.000000\n",
       "Name: price, dtype: float64"
      ]
     },
     "execution_count": 249,
     "metadata": {},
     "output_type": "execute_result"
    }
   ],
   "source": [
    "# Checking the general description of the column\n",
    "df['price'].describe()"
   ]
  },
  {
   "cell_type": "markdown",
   "metadata": {},
   "source": [
    "Key takeaways:\n",
    "1. The mean of listing price is 2,737 THB.\n",
    "1. The median of listing price is 1,389 THB.\n",
    "1. The listing price analyzed ranges from 278 THB to 1,000,000 THB."
   ]
  },
  {
   "cell_type": "code",
   "execution_count": 250,
   "metadata": {},
   "outputs": [
    {
     "data": {
      "image/png": "[encoded data removed]",
      "text/plain": [
       "<Figure size 1000x600 with 1 Axes>"
      ]
     },
     "metadata": {},
     "output_type": "display_data"
    }
   ],
   "source": [
    "# Showing the distribution of the 'price' column\n",
    "plt.figure(figsize=(10, 6))\n",
    "sns.histplot(df['price'], bins=100, kde=True)\n",
    "plt.title('Price Distribution')\n",
    "plt.ticklabel_format(style='plain', axis='x')  # Remove scientific notation\n",
    "plt.xlabel('Price')\n",
    "plt.show()"
   ]
  },
  {
   "cell_type": "code",
   "execution_count": 251,
   "metadata": {},
   "outputs": [
    {
     "name": "stdout",
     "output_type": "stream",
     "text": [
      "Kurtosis:  1737.1818543455818\n",
      "Skewness:  37.72956758818485\n"
     ]
    }
   ],
   "source": [
    "# Determine skewness and kurtosis of price\n",
    "\n",
    "print(\"Kurtosis: \", df['price'].kurt())\n",
    "print(\"Skewness: \", df['price'].skew())"
   ]
  },
  {
   "cell_type": "markdown",
   "metadata": {},
   "source": [
    "**Insights:**\n",
    "1. Price distribution is abnormal.\n",
    "1. Extreme positive kurtosis: Distribution is abnormal (not close to 0).\n",
    "1. Positive skewness: most listings are priced below average.\n",
    "1. Measure of central tendency uses `median` because the distribution is abnormal and skewed."
   ]
  },
  {
   "cell_type": "markdown",
   "metadata": {},
   "source": [
    "Now, we are going to group our `price` data into ranges. Since our data is highly abnormal, we will use custom-sized bins as follows:\n",
    "\n",
    "| Price Range (THB) | Category |\n",
    "|---|---|\n",
    "| < 500 | Budget |\n",
    "| 500 - 1000 | Affordable |\n",
    "| 1000 - 2000 | Mid-tier |\n",
    "| 2000 - 5000 | High-end |\n",
    "| 5000 - 10,000 | Premium |\n",
    "| >= 10,000 | Luxury |"
   ]
  },
  {
   "cell_type": "code",
   "execution_count": 252,
   "metadata": {},
   "outputs": [
    {
     "data": {
      "text/plain": [
       "price_range\n",
       "< 500 THB          767\n",
       "500-1000 THB      4502\n",
       "1000-2000 THB     6571\n",
       "2000-5000 THB     3902\n",
       "5000-10000 THB     847\n",
       ">= 10000 THB       392\n",
       "Name: count, dtype: int64"
      ]
     },
     "execution_count": 252,
     "metadata": {},
     "output_type": "execute_result"
    }
   ],
   "source": [
    "# Define custom bin edges and labels\n",
    "bin_edges = [0, 500, 1000, 2000, 5000, 10000, float('inf')]\n",
    "bin_labels = [\n",
    "    '< 500 THB',\n",
    "    '500-1000 THB',\n",
    "    '1000-2000 THB',\n",
    "    '2000-5000 THB',\n",
    "    '5000-10000 THB',\n",
    "    '>= 10000 THB'\n",
    "]\n",
    "\n",
    "# Create a new column for the price category\n",
    "df['price_range'] = pd.cut(df['price'], bins=bin_edges, labels=bin_labels, right=False)\n",
    "\n",
    "# View the distribution\n",
    "price_range_counts = df['price_range'].value_counts().sort_index()\n",
    "\n",
    "price_range_counts"
   ]
  },
  {
   "cell_type": "code",
   "execution_count": 253,
   "metadata": {},
   "outputs": [
    {
     "name": "stderr",
     "output_type": "stream",
     "text": [
      "C:\\Users\\cindy.TESS\\AppData\\Local\\Temp\\ipykernel_18208\\548751846.py:3: FutureWarning: \n",
      "\n",
      "Passing `palette` without assigning `hue` is deprecated and will be removed in v0.14.0. Assign the `x` variable to `hue` and set `legend=False` for the same effect.\n",
      "\n",
      "  sns.barplot(x=price_range_counts.index, y=price_range_counts.values, palette=\"viridis\")\n"
     ]
    },
    {
     "data": {
      "image/png": "[encoded data removed]",
      "text/plain": [
       "<Figure size 1000x600 with 1 Axes>"
      ]
     },
     "metadata": {},
     "output_type": "display_data"
    }
   ],
   "source": [
    "# Visualize the price ranges\n",
    "plt.figure(figsize=(10, 6))\n",
    "sns.barplot(x=price_range_counts.index, y=price_range_counts.values, palette=\"viridis\")\n",
    "plt.title('Number of Listings by Price Range')\n",
    "plt.xlabel('Price Range (THB)')\n",
    "plt.ylabel('Count of Listings')\n",
    "plt.xticks(rotation=45)\n",
    "plt.tight_layout()\n",
    "plt.show()"
   ]
  },
  {
   "cell_type": "code",
   "execution_count": 254,
   "metadata": {},
   "outputs": [
    {
     "name": "stderr",
     "output_type": "stream",
     "text": [
      "C:\\Users\\cindy.TESS\\AppData\\Local\\Temp\\ipykernel_18208\\1485696018.py:2: FutureWarning: The default of observed=False is deprecated and will be changed to True in a future version of pandas. Pass observed=False to retain current behavior or observed=True to adopt the future default and silence this warning.\n",
      "  price_room_type = df.groupby(['price_range', 'room_type']).size().unstack().fillna(0)\n"
     ]
    },
    {
     "data": {
      "image/png": "[encoded data removed]",
      "text/plain": [
       "<Figure size 1200x600 with 1 Axes>"
      ]
     },
     "metadata": {},
     "output_type": "display_data"
    }
   ],
   "source": [
    "# Group by price range and room type\n",
    "price_room_type = df.groupby(['price_range', 'room_type']).size().unstack().fillna(0)\n",
    "\n",
    "# Plot stacked bar chart\n",
    "price_room_type.plot(kind='bar', stacked=True, figsize=(12, 6), colormap='Set2')\n",
    "plt.title('Listings by Price Range and Room Type')\n",
    "plt.xlabel('Price Range')\n",
    "plt.ylabel('Number of Listings')\n",
    "plt.xticks(rotation=45)\n",
    "plt.tight_layout()\n",
    "plt.show()"
   ]
  },
  {
   "cell_type": "markdown",
   "metadata": {},
   "source": [
    "**Insights:**\n",
    "1. Most listings are priced between 1000-2000 THB.\n",
    "1. Very few listings are priced below 500 THB and above 5000 THB."
   ]
  },
  {
   "cell_type": "code",
   "execution_count": 255,
   "metadata": {},
   "outputs": [
    {
     "name": "stderr",
     "output_type": "stream",
     "text": [
      "C:\\Users\\cindy.TESS\\AppData\\Local\\Temp\\ipykernel_18208\\848260648.py:2: FutureWarning: The default of observed=False is deprecated and will be changed to True in a future version of pandas. Pass observed=False to retain current behavior or observed=True to adopt the future default and silence this warning.\n",
      "  summary_stats = df.groupby('price_range').agg(\n"
     ]
    },
    {
     "data": {
      "text/html": [
       "<div>\n",
       "<style scoped>\n",
       "    .dataframe tbody tr th:only-of-type {\n",
       "        vertical-align: middle;\n",
       "    }\n",
       "\n",
       "    .dataframe tbody tr th {\n",
       "        vertical-align: top;\n",
       "    }\n",
       "\n",
       "    .dataframe thead th {\n",
       "        text-align: right;\n",
       "    }\n",
       "</style>\n",
       "<table border=\"1\" class=\"dataframe\">\n",
       "  <thead>\n",
       "    <tr style=\"text-align: right;\">\n",
       "      <th></th>\n",
       "      <th>price_range</th>\n",
       "      <th>count</th>\n",
       "      <th>reviews_sum</th>\n",
       "      <th>reviews_mean</th>\n",
       "      <th>reviews_median</th>\n",
       "      <th>reviews_std</th>\n",
       "      <th>rpm_mean</th>\n",
       "      <th>rpm_median</th>\n",
       "      <th>rpm_std</th>\n",
       "    </tr>\n",
       "  </thead>\n",
       "  <tbody>\n",
       "    <tr>\n",
       "      <th>0</th>\n",
       "      <td>1000-2000 THB</td>\n",
       "      <td>6571</td>\n",
       "      <td>109212</td>\n",
       "      <td>16.620301</td>\n",
       "      <td>2.0</td>\n",
       "      <td>42.255503</td>\n",
       "      <td>0.642459</td>\n",
       "      <td>0.19</td>\n",
       "      <td>1.095914</td>\n",
       "    </tr>\n",
       "    <tr>\n",
       "      <th>1</th>\n",
       "      <td>500-1000 THB</td>\n",
       "      <td>4502</td>\n",
       "      <td>76345</td>\n",
       "      <td>16.958019</td>\n",
       "      <td>3.0</td>\n",
       "      <td>39.185217</td>\n",
       "      <td>0.527117</td>\n",
       "      <td>0.15</td>\n",
       "      <td>0.901776</td>\n",
       "    </tr>\n",
       "    <tr>\n",
       "      <th>2</th>\n",
       "      <td>2000-5000 THB</td>\n",
       "      <td>3902</td>\n",
       "      <td>63984</td>\n",
       "      <td>16.397745</td>\n",
       "      <td>1.0</td>\n",
       "      <td>40.851369</td>\n",
       "      <td>0.615067</td>\n",
       "      <td>0.06</td>\n",
       "      <td>1.170220</td>\n",
       "    </tr>\n",
       "    <tr>\n",
       "      <th>3</th>\n",
       "      <td>5000-10000 THB</td>\n",
       "      <td>847</td>\n",
       "      <td>9362</td>\n",
       "      <td>11.053129</td>\n",
       "      <td>1.0</td>\n",
       "      <td>27.732993</td>\n",
       "      <td>0.423613</td>\n",
       "      <td>0.02</td>\n",
       "      <td>0.870971</td>\n",
       "    </tr>\n",
       "    <tr>\n",
       "      <th>4</th>\n",
       "      <td>&lt; 500 THB</td>\n",
       "      <td>767</td>\n",
       "      <td>7162</td>\n",
       "      <td>9.337679</td>\n",
       "      <td>1.0</td>\n",
       "      <td>23.264220</td>\n",
       "      <td>0.397523</td>\n",
       "      <td>0.05</td>\n",
       "      <td>0.834158</td>\n",
       "    </tr>\n",
       "    <tr>\n",
       "      <th>5</th>\n",
       "      <td>&gt;= 10000 THB</td>\n",
       "      <td>392</td>\n",
       "      <td>2779</td>\n",
       "      <td>7.089286</td>\n",
       "      <td>0.0</td>\n",
       "      <td>25.745751</td>\n",
       "      <td>0.200485</td>\n",
       "      <td>0.00</td>\n",
       "      <td>0.513020</td>\n",
       "    </tr>\n",
       "  </tbody>\n",
       "</table>\n",
       "</div>"
      ],
      "text/plain": [
       "      price_range  count  reviews_sum  reviews_mean  reviews_median  \\\n",
       "0   1000-2000 THB   6571       109212     16.620301             2.0   \n",
       "1    500-1000 THB   4502        76345     16.958019             3.0   \n",
       "2   2000-5000 THB   3902        63984     16.397745             1.0   \n",
       "3  5000-10000 THB    847         9362     11.053129             1.0   \n",
       "4       < 500 THB    767         7162      9.337679             1.0   \n",
       "5    >= 10000 THB    392         2779      7.089286             0.0   \n",
       "\n",
       "   reviews_std  rpm_mean  rpm_median   rpm_std  \n",
       "0    42.255503  0.642459        0.19  1.095914  \n",
       "1    39.185217  0.527117        0.15  0.901776  \n",
       "2    40.851369  0.615067        0.06  1.170220  \n",
       "3    27.732993  0.423613        0.02  0.870971  \n",
       "4    23.264220  0.397523        0.05  0.834158  \n",
       "5    25.745751  0.200485        0.00  0.513020  "
      ]
     },
     "execution_count": 255,
     "metadata": {},
     "output_type": "execute_result"
    }
   ],
   "source": [
    "# Summary statistics for each price range\n",
    "summary_stats = df.groupby('price_range').agg(\n",
    "    count=('price_range', 'count'),\n",
    "    reviews_sum=('number_of_reviews', 'sum'),\n",
    "    reviews_mean=('number_of_reviews', 'mean'),\n",
    "    reviews_median=('number_of_reviews', 'median'),\n",
    "    reviews_std=('number_of_reviews', 'std'),\n",
    "    rpm_mean=('reviews_per_month', 'mean'),\n",
    "    rpm_median=('reviews_per_month', 'median'),\n",
    "    rpm_std=('reviews_per_month', 'std')\n",
    ").sort_values(by='count', ascending=False).reset_index()\n",
    "\n",
    "summary_stats"
   ]
  },
  {
   "cell_type": "markdown",
   "metadata": {},
   "source": [
    "**Conclusion:**\n",
    "<br>1000-2000 THB is the optimal price range, and most listings are priced within this range."
   ]
  },
  {
   "cell_type": "markdown",
   "metadata": {},
   "source": [
    "#### 2. Finding the most popular room type"
   ]
  },
  {
   "cell_type": "markdown",
   "metadata": {},
   "source": [
    "Next, we are going to analyze the key statistical values of price, number of reviews, and review per month for each room type."
   ]
  },
  {
   "cell_type": "code",
   "execution_count": 256,
   "metadata": {},
   "outputs": [
    {
     "data": {
      "text/html": [
       "<div>\n",
       "<style scoped>\n",
       "    .dataframe tbody tr th:only-of-type {\n",
       "        vertical-align: middle;\n",
       "    }\n",
       "\n",
       "    .dataframe tbody tr th {\n",
       "        vertical-align: top;\n",
       "    }\n",
       "\n",
       "    .dataframe thead th {\n",
       "        text-align: right;\n",
       "    }\n",
       "</style>\n",
       "<table border=\"1\" class=\"dataframe\">\n",
       "  <thead>\n",
       "    <tr style=\"text-align: right;\">\n",
       "      <th></th>\n",
       "      <th>room_type</th>\n",
       "      <th>count</th>\n",
       "      <th>price_mean</th>\n",
       "      <th>price_median</th>\n",
       "      <th>price_std</th>\n",
       "      <th>reviews_sum</th>\n",
       "      <th>reviews_mean</th>\n",
       "      <th>reviews_median</th>\n",
       "      <th>reviews_std</th>\n",
       "      <th>rpm_mean</th>\n",
       "      <th>rpm_median</th>\n",
       "      <th>rpm_std</th>\n",
       "      <th>neighbourhood</th>\n",
       "    </tr>\n",
       "  </thead>\n",
       "  <tbody>\n",
       "    <tr>\n",
       "      <th>0</th>\n",
       "      <td>Entire home/apt</td>\n",
       "      <td>9693</td>\n",
       "      <td>2699.356855</td>\n",
       "      <td>1500.0</td>\n",
       "      <td>15902.100093</td>\n",
       "      <td>200138</td>\n",
       "      <td>20.647684</td>\n",
       "      <td>4.0</td>\n",
       "      <td>43.795340</td>\n",
       "      <td>0.754631</td>\n",
       "      <td>0.34</td>\n",
       "      <td>1.132692</td>\n",
       "      <td>Vadhana, Khlong Toei, Huai Khwang</td>\n",
       "    </tr>\n",
       "    <tr>\n",
       "      <th>1</th>\n",
       "      <td>Private room</td>\n",
       "      <td>6153</td>\n",
       "      <td>2879.554851</td>\n",
       "      <td>1200.0</td>\n",
       "      <td>18871.036853</td>\n",
       "      <td>54411</td>\n",
       "      <td>8.843003</td>\n",
       "      <td>1.0</td>\n",
       "      <td>29.663036</td>\n",
       "      <td>0.350146</td>\n",
       "      <td>0.01</td>\n",
       "      <td>0.867998</td>\n",
       "      <td>Vadhana, Khlong Toei, Phra Nakhon</td>\n",
       "    </tr>\n",
       "    <tr>\n",
       "      <th>2</th>\n",
       "      <td>Hotel room</td>\n",
       "      <td>627</td>\n",
       "      <td>3229.113238</td>\n",
       "      <td>1706.0</td>\n",
       "      <td>12176.511221</td>\n",
       "      <td>11702</td>\n",
       "      <td>18.663477</td>\n",
       "      <td>2.0</td>\n",
       "      <td>54.552170</td>\n",
       "      <td>0.301005</td>\n",
       "      <td>0.05</td>\n",
       "      <td>0.680209</td>\n",
       "      <td>Vadhana, Khlong Toei, Phra Nakhon</td>\n",
       "    </tr>\n",
       "    <tr>\n",
       "      <th>3</th>\n",
       "      <td>Shared</td>\n",
       "      <td>508</td>\n",
       "      <td>1134.706693</td>\n",
       "      <td>522.5</td>\n",
       "      <td>3989.246374</td>\n",
       "      <td>2593</td>\n",
       "      <td>5.104331</td>\n",
       "      <td>0.0</td>\n",
       "      <td>15.054894</td>\n",
       "      <td>0.155787</td>\n",
       "      <td>0.00</td>\n",
       "      <td>0.621939</td>\n",
       "      <td>Phra Nakhon, Ratchathewi, Vadhana</td>\n",
       "    </tr>\n",
       "  </tbody>\n",
       "</table>\n",
       "</div>"
      ],
      "text/plain": [
       "         room_type  count   price_mean  price_median     price_std  \\\n",
       "0  Entire home/apt   9693  2699.356855        1500.0  15902.100093   \n",
       "1     Private room   6153  2879.554851        1200.0  18871.036853   \n",
       "2       Hotel room    627  3229.113238        1706.0  12176.511221   \n",
       "3           Shared    508  1134.706693         522.5   3989.246374   \n",
       "\n",
       "   reviews_sum  reviews_mean  reviews_median  reviews_std  rpm_mean  \\\n",
       "0       200138     20.647684             4.0    43.795340  0.754631   \n",
       "1        54411      8.843003             1.0    29.663036  0.350146   \n",
       "2        11702     18.663477             2.0    54.552170  0.301005   \n",
       "3         2593      5.104331             0.0    15.054894  0.155787   \n",
       "\n",
       "   rpm_median   rpm_std                      neighbourhood  \n",
       "0        0.34  1.132692  Vadhana, Khlong Toei, Huai Khwang  \n",
       "1        0.01  0.867998  Vadhana, Khlong Toei, Phra Nakhon  \n",
       "2        0.05  0.680209  Vadhana, Khlong Toei, Phra Nakhon  \n",
       "3        0.00  0.621939  Phra Nakhon, Ratchathewi, Vadhana  "
      ]
     },
     "execution_count": 256,
     "metadata": {},
     "output_type": "execute_result"
    }
   ],
   "source": [
    "# Summary statistics for each room_type\n",
    "summary_stats = df.groupby('room_type').agg(\n",
    "    count=('room_type', 'count'),\n",
    "    price_mean=('price', 'mean'),\n",
    "    price_median=('price', 'median'),\n",
    "    price_std=('price', 'std'),\n",
    "    reviews_sum=('number_of_reviews', 'sum'),\n",
    "    reviews_mean=('number_of_reviews', 'mean'),\n",
    "    reviews_median=('number_of_reviews', 'median'),\n",
    "    reviews_std=('number_of_reviews', 'std'),\n",
    "    rpm_mean=('reviews_per_month', 'mean'),\n",
    "    rpm_median=('reviews_per_month', 'median'),\n",
    "    rpm_std=('reviews_per_month', 'std')\n",
    ")\n",
    "\n",
    "# Top 3 neighbourhoods per room type\n",
    "top_neighbourhoods = (\n",
    "    df.groupby(['room_type', 'neighbourhood'])\n",
    "    .size()\n",
    "    .reset_index(name='count')\n",
    "    .sort_values(['room_type', 'count'], ascending=[True, False])\n",
    ")\n",
    "\n",
    "# Get top 3 per room_type\n",
    "top3_neighbourhoods = (\n",
    "    top_neighbourhoods.groupby('room_type')\n",
    "    .head(3)\n",
    "    .groupby('room_type')['neighbourhood']\n",
    "    .apply(lambda x: ', '.join(x))\n",
    ")\n",
    "\n",
    "# Merge the two summaries\n",
    "final_summary = pd.merge(summary_stats, top3_neighbourhoods, on='room_type').sort_values(by='count', ascending=False).reset_index()\n",
    "\n",
    "# Display the result\n",
    "final_summary"
   ]
  },
  {
   "cell_type": "markdown",
   "metadata": {},
   "source": [
    "**Insights:**\n",
    "1. The listings in 2023 are mostly entire homes or apartments with a price around 1,500 THB (median).\n",
    "1. Hotel rooms and shared properties are on the higher and lower end of the pricing respectively, and both are not very commonly listed on Airbnb.\n",
    "1. `reviews_mean` shows how many reviews each listing in the room type group received in 2023. This could be used to measure the popularity of each room type."
   ]
  },
  {
   "cell_type": "markdown",
   "metadata": {},
   "source": [
    "**Conclusion:**\n",
    "1. Entire home/apt is the most popular room type based on the number of listings, the number of reviews per listing, and review per month.\n",
    "1. This is followed by hotel room. Although the number of hotel rooms rented was less than private room, each room has received more reviews, which means that more people rented hotel rooms compared to private rooms.\n",
    "1. Shared room is the least popular room type, hence it is not recommended for business.\n",
    "1. Vadhana, Khlong Toei, and Phra Nakhon are popular areas for Airbnb business, but we will analyze this further in the next section."
   ]
  },
  {
   "cell_type": "markdown",
   "metadata": {},
   "source": [
    "#### 3. Finding the most popular neighbourhood"
   ]
  },
  {
   "cell_type": "markdown",
   "metadata": {},
   "source": [
    "Let's create a summary table for each neighbourhood and display the summary of the top 10 neighbourhood by count."
   ]
  },
  {
   "cell_type": "code",
   "execution_count": 257,
   "metadata": {},
   "outputs": [
    {
     "data": {
      "text/html": [
       "<div>\n",
       "<style scoped>\n",
       "    .dataframe tbody tr th:only-of-type {\n",
       "        vertical-align: middle;\n",
       "    }\n",
       "\n",
       "    .dataframe tbody tr th {\n",
       "        vertical-align: top;\n",
       "    }\n",
       "\n",
       "    .dataframe thead th {\n",
       "        text-align: right;\n",
       "    }\n",
       "</style>\n",
       "<table border=\"1\" class=\"dataframe\">\n",
       "  <thead>\n",
       "    <tr style=\"text-align: right;\">\n",
       "      <th></th>\n",
       "      <th>neighbourhood</th>\n",
       "      <th>count</th>\n",
       "      <th>price_mean</th>\n",
       "      <th>price_median</th>\n",
       "      <th>price_std</th>\n",
       "      <th>reviews_sum</th>\n",
       "      <th>reviews_mean</th>\n",
       "      <th>reviews_median</th>\n",
       "      <th>reviews_std</th>\n",
       "      <th>rpm_mean</th>\n",
       "      <th>rpm_median</th>\n",
       "      <th>rpm_std</th>\n",
       "    </tr>\n",
       "  </thead>\n",
       "  <tbody>\n",
       "    <tr>\n",
       "      <th>0</th>\n",
       "      <td>Vadhana</td>\n",
       "      <td>2434</td>\n",
       "      <td>3282.442071</td>\n",
       "      <td>1817.0</td>\n",
       "      <td>8314.738945</td>\n",
       "      <td>36192</td>\n",
       "      <td>14.869351</td>\n",
       "      <td>2.0</td>\n",
       "      <td>31.458298</td>\n",
       "      <td>0.653809</td>\n",
       "      <td>0.185</td>\n",
       "      <td>1.050828</td>\n",
       "    </tr>\n",
       "    <tr>\n",
       "      <th>1</th>\n",
       "      <td>Khlong Toei</td>\n",
       "      <td>2265</td>\n",
       "      <td>3153.482119</td>\n",
       "      <td>1600.0</td>\n",
       "      <td>21763.965850</td>\n",
       "      <td>44564</td>\n",
       "      <td>19.675055</td>\n",
       "      <td>6.0</td>\n",
       "      <td>39.905536</td>\n",
       "      <td>0.951011</td>\n",
       "      <td>0.410</td>\n",
       "      <td>1.377470</td>\n",
       "    </tr>\n",
       "    <tr>\n",
       "      <th>2</th>\n",
       "      <td>Huai Khwang</td>\n",
       "      <td>1264</td>\n",
       "      <td>3540.724684</td>\n",
       "      <td>1280.0</td>\n",
       "      <td>30124.160264</td>\n",
       "      <td>16072</td>\n",
       "      <td>12.715190</td>\n",
       "      <td>1.0</td>\n",
       "      <td>32.423434</td>\n",
       "      <td>0.458339</td>\n",
       "      <td>0.090</td>\n",
       "      <td>0.727208</td>\n",
       "    </tr>\n",
       "    <tr>\n",
       "      <th>3</th>\n",
       "      <td>Ratchathewi</td>\n",
       "      <td>1188</td>\n",
       "      <td>3003.846801</td>\n",
       "      <td>1490.0</td>\n",
       "      <td>17683.284495</td>\n",
       "      <td>20953</td>\n",
       "      <td>17.637205</td>\n",
       "      <td>2.0</td>\n",
       "      <td>36.123613</td>\n",
       "      <td>0.568342</td>\n",
       "      <td>0.190</td>\n",
       "      <td>0.939104</td>\n",
       "    </tr>\n",
       "    <tr>\n",
       "      <th>4</th>\n",
       "      <td>Sathon</td>\n",
       "      <td>869</td>\n",
       "      <td>2071.521289</td>\n",
       "      <td>1200.0</td>\n",
       "      <td>4028.301787</td>\n",
       "      <td>22790</td>\n",
       "      <td>26.225547</td>\n",
       "      <td>4.0</td>\n",
       "      <td>59.436697</td>\n",
       "      <td>0.710311</td>\n",
       "      <td>0.330</td>\n",
       "      <td>0.965912</td>\n",
       "    </tr>\n",
       "    <tr>\n",
       "      <th>5</th>\n",
       "      <td>Bang Rak</td>\n",
       "      <td>834</td>\n",
       "      <td>2850.338129</td>\n",
       "      <td>1800.0</td>\n",
       "      <td>10634.962495</td>\n",
       "      <td>18227</td>\n",
       "      <td>21.854916</td>\n",
       "      <td>4.0</td>\n",
       "      <td>43.154841</td>\n",
       "      <td>0.631127</td>\n",
       "      <td>0.170</td>\n",
       "      <td>1.170196</td>\n",
       "    </tr>\n",
       "    <tr>\n",
       "      <th>6</th>\n",
       "      <td>Phra Nakhon</td>\n",
       "      <td>650</td>\n",
       "      <td>1719.209231</td>\n",
       "      <td>1118.0</td>\n",
       "      <td>1743.919954</td>\n",
       "      <td>10004</td>\n",
       "      <td>15.390769</td>\n",
       "      <td>2.0</td>\n",
       "      <td>33.906350</td>\n",
       "      <td>0.654462</td>\n",
       "      <td>0.080</td>\n",
       "      <td>1.272912</td>\n",
       "    </tr>\n",
       "    <tr>\n",
       "      <th>7</th>\n",
       "      <td>Phra Khanong</td>\n",
       "      <td>603</td>\n",
       "      <td>1478.258706</td>\n",
       "      <td>999.0</td>\n",
       "      <td>2539.796936</td>\n",
       "      <td>6282</td>\n",
       "      <td>10.417910</td>\n",
       "      <td>2.0</td>\n",
       "      <td>25.454561</td>\n",
       "      <td>0.561841</td>\n",
       "      <td>0.120</td>\n",
       "      <td>1.156268</td>\n",
       "    </tr>\n",
       "    <tr>\n",
       "      <th>8</th>\n",
       "      <td>Chatu Chak</td>\n",
       "      <td>589</td>\n",
       "      <td>3092.419355</td>\n",
       "      <td>1100.0</td>\n",
       "      <td>21528.301294</td>\n",
       "      <td>8205</td>\n",
       "      <td>13.930390</td>\n",
       "      <td>1.0</td>\n",
       "      <td>36.679160</td>\n",
       "      <td>0.443447</td>\n",
       "      <td>0.030</td>\n",
       "      <td>0.839267</td>\n",
       "    </tr>\n",
       "    <tr>\n",
       "      <th>9</th>\n",
       "      <td>Parthum Wan</td>\n",
       "      <td>482</td>\n",
       "      <td>3936.742739</td>\n",
       "      <td>2090.5</td>\n",
       "      <td>14495.512226</td>\n",
       "      <td>8718</td>\n",
       "      <td>18.087137</td>\n",
       "      <td>3.0</td>\n",
       "      <td>37.165594</td>\n",
       "      <td>0.569046</td>\n",
       "      <td>0.210</td>\n",
       "      <td>0.836922</td>\n",
       "    </tr>\n",
       "  </tbody>\n",
       "</table>\n",
       "</div>"
      ],
      "text/plain": [
       "  neighbourhood  count   price_mean  price_median     price_std  reviews_sum  \\\n",
       "0       Vadhana   2434  3282.442071        1817.0   8314.738945        36192   \n",
       "1   Khlong Toei   2265  3153.482119        1600.0  21763.965850        44564   \n",
       "2   Huai Khwang   1264  3540.724684        1280.0  30124.160264        16072   \n",
       "3   Ratchathewi   1188  3003.846801        1490.0  17683.284495        20953   \n",
       "4        Sathon    869  2071.521289        1200.0   4028.301787        22790   \n",
       "5      Bang Rak    834  2850.338129        1800.0  10634.962495        18227   \n",
       "6   Phra Nakhon    650  1719.209231        1118.0   1743.919954        10004   \n",
       "7  Phra Khanong    603  1478.258706         999.0   2539.796936         6282   \n",
       "8    Chatu Chak    589  3092.419355        1100.0  21528.301294         8205   \n",
       "9   Parthum Wan    482  3936.742739        2090.5  14495.512226         8718   \n",
       "\n",
       "   reviews_mean  reviews_median  reviews_std  rpm_mean  rpm_median   rpm_std  \n",
       "0     14.869351             2.0    31.458298  0.653809       0.185  1.050828  \n",
       "1     19.675055             6.0    39.905536  0.951011       0.410  1.377470  \n",
       "2     12.715190             1.0    32.423434  0.458339       0.090  0.727208  \n",
       "3     17.637205             2.0    36.123613  0.568342       0.190  0.939104  \n",
       "4     26.225547             4.0    59.436697  0.710311       0.330  0.965912  \n",
       "5     21.854916             4.0    43.154841  0.631127       0.170  1.170196  \n",
       "6     15.390769             2.0    33.906350  0.654462       0.080  1.272912  \n",
       "7     10.417910             2.0    25.454561  0.561841       0.120  1.156268  \n",
       "8     13.930390             1.0    36.679160  0.443447       0.030  0.839267  \n",
       "9     18.087137             3.0    37.165594  0.569046       0.210  0.836922  "
      ]
     },
     "execution_count": 257,
     "metadata": {},
     "output_type": "execute_result"
    }
   ],
   "source": [
    "# Summary statistics for each room_type\n",
    "summary_stats = df.groupby('neighbourhood').agg(\n",
    "    count=('room_type', 'count'),\n",
    "    price_mean=('price', 'mean'),\n",
    "    price_median=('price', 'median'),\n",
    "    price_std=('price', 'std'),\n",
    "    reviews_sum=('number_of_reviews', 'sum'),\n",
    "    reviews_mean=('number_of_reviews', 'mean'),\n",
    "    reviews_median=('number_of_reviews', 'median'),\n",
    "    reviews_std=('number_of_reviews', 'std'),\n",
    "    rpm_mean=('reviews_per_month', 'mean'),\n",
    "    rpm_median=('reviews_per_month', 'median'),\n",
    "    rpm_std=('reviews_per_month', 'std')\n",
    ").sort_values(by='count', ascending=False).reset_index()\n",
    "\n",
    "summary_stats.head(10)"
   ]
  },
  {
   "cell_type": "code",
   "execution_count": 258,
   "metadata": {},
   "outputs": [
    {
     "name": "stderr",
     "output_type": "stream",
     "text": [
      "C:\\Users\\cindy.TESS\\AppData\\Local\\Temp\\ipykernel_18208\\3771358787.py:3: FutureWarning: \n",
      "\n",
      "Passing `palette` without assigning `hue` is deprecated and will be removed in v0.14.0. Assign the `y` variable to `hue` and set `legend=False` for the same effect.\n",
      "\n",
      "  sns.barplot(data=summary_stats.head(10), y='neighbourhood', x='count', palette='viridis')\n"
     ]
    },
    {
     "data": {
      "image/png": "[encoded data removed]",
      "text/plain": [
       "<Figure size 1200x600 with 1 Axes>"
      ]
     },
     "metadata": {},
     "output_type": "display_data"
    }
   ],
   "source": [
    "# Visualize the top 10 neighbourhoods by count using a horizontal bar plot\n",
    "plt.figure(figsize=(12, 6))\n",
    "sns.barplot(data=summary_stats.head(10), y='neighbourhood', x='count', palette='viridis')\n",
    "plt.title('Top 10 Neighbourhoods by Count')\n",
    "plt.xlabel('Count')\n",
    "plt.ylabel('Neighbourhood')\n",
    "plt.show()"
   ]
  },
  {
   "cell_type": "code",
   "execution_count": 259,
   "metadata": {},
   "outputs": [
    {
     "name": "stderr",
     "output_type": "stream",
     "text": [
      "C:\\Users\\cindy.TESS\\AppData\\Local\\Temp\\ipykernel_18208\\3807553349.py:3: FutureWarning: \n",
      "\n",
      "Passing `palette` without assigning `hue` is deprecated and will be removed in v0.14.0. Assign the `y` variable to `hue` and set `legend=False` for the same effect.\n",
      "\n",
      "  sns.barplot(data=summary_stats.sort_values(by='reviews_mean', ascending=False).head(10), y='neighbourhood', x='reviews_mean', palette='viridis')\n"
     ]
    },
    {
     "data": {
      "image/png": "[encoded data removed]",
      "text/plain": [
       "<Figure size 1200x600 with 1 Axes>"
      ]
     },
     "metadata": {},
     "output_type": "display_data"
    }
   ],
   "source": [
    "# Visualize the top 10 neighbourhoods by reviews per listing (reviews_mean)\n",
    "plt.figure(figsize=(12, 6))\n",
    "sns.barplot(data=summary_stats.sort_values(by='reviews_mean', ascending=False).head(10), y='neighbourhood', x='reviews_mean', palette='viridis')\n",
    "plt.title('Top 10 Neighbourhoods by Reviews per Listing')\n",
    "plt.ylabel('Neighbourhood')\n",
    "plt.xlabel('Reviews per Listing')\n",
    "plt.show()"
   ]
  },
  {
   "cell_type": "code",
   "execution_count": 260,
   "metadata": {},
   "outputs": [
    {
     "name": "stderr",
     "output_type": "stream",
     "text": [
      "C:\\Users\\cindy.TESS\\AppData\\Local\\Temp\\ipykernel_18208\\3919302021.py:3: FutureWarning: \n",
      "\n",
      "Passing `palette` without assigning `hue` is deprecated and will be removed in v0.14.0. Assign the `y` variable to `hue` and set `legend=False` for the same effect.\n",
      "\n",
      "  sns.barplot(data=summary_stats.sort_values(by='rpm_median', ascending=False).head(10), y='neighbourhood', x='rpm_median', palette='viridis')\n"
     ]
    },
    {
     "data": {
      "image/png": "[encoded data removed]",
      "text/plain": [
       "<Figure size 1200x600 with 1 Axes>"
      ]
     },
     "metadata": {},
     "output_type": "display_data"
    }
   ],
   "source": [
    "# Visualize the top 10 neighbourhoods by reviews per month tendency (rpm_median)\n",
    "plt.figure(figsize=(12, 6))\n",
    "sns.barplot(data=summary_stats.sort_values(by='rpm_median', ascending=False).head(10), y='neighbourhood', x='rpm_median', palette='viridis')\n",
    "plt.title('Top 10 Neighbourhoods by Reviews per Month')\n",
    "plt.ylabel('Neighbourhood')\n",
    "plt.xlabel('Reviews per Month')\n",
    "plt.show()"
   ]
  },
  {
   "cell_type": "code",
   "execution_count": 261,
   "metadata": {},
   "outputs": [
    {
     "name": "stderr",
     "output_type": "stream",
     "text": [
      "C:\\Users\\cindy.TESS\\AppData\\Local\\Temp\\ipykernel_18208\\3260335017.py:3: FutureWarning: \n",
      "\n",
      "Passing `palette` without assigning `hue` is deprecated and will be removed in v0.14.0. Assign the `y` variable to `hue` and set `legend=False` for the same effect.\n",
      "\n",
      "  sns.barplot(data=summary_stats.sort_values(by='price_median', ascending=True).head(10), y='neighbourhood', x='price_median', palette='viridis')\n"
     ]
    },
    {
     "data": {
      "image/png": "[encoded data removed]",
      "text/plain": [
       "<Figure size 1200x600 with 1 Axes>"
      ]
     },
     "metadata": {},
     "output_type": "display_data"
    }
   ],
   "source": [
    "# Visualize the top 10 neighbourhoods by reviews per month tendency (rpm_median)\n",
    "plt.figure(figsize=(12, 6))\n",
    "sns.barplot(data=summary_stats.sort_values(by='price_median', ascending=True).head(10), y='neighbourhood', x='price_median', palette='viridis')\n",
    "plt.title('Top 10 Neighbourhoods by Price Affordability')\n",
    "plt.ylabel('Neighbourhood')\n",
    "plt.xlabel('Median Price (THB)')\n",
    "plt.show()"
   ]
  },
  {
   "cell_type": "markdown",
   "metadata": {},
   "source": [
    "Next, we are going to formulate a scoring criteria for the strategic value of each neighbourhood based on the following criteria:\n",
    "1. Price closeness to overall median (1,389 THB)<br>\n",
    "→ Closer = better (suggests balance between affordability and profitability)<br>\n",
    "→ Use inverse absolute difference from the overall median\n",
    "\n",
    "1. Number of reviews per listing (mean)<br>\n",
    "→ Higher = better (indicates popularity & trust)\n",
    "\n",
    "1. Reviews per month (median)<br>\n",
    "→ Higher = better (indicates consistent demand)\n",
    "\n",
    "1. Count<br>\n",
    "→ Higher = better (indicates crowded activity in the area and high survivability rate)<br>\n",
    "→ The weight for this metric will be lower since higher count also means high competition"
   ]
  },
  {
   "cell_type": "code",
   "execution_count": 262,
   "metadata": {},
   "outputs": [],
   "source": [
    "# Score each metric\n",
    "\n",
    "# Price Score (closer to overall median is better)\n",
    "summary_stats['price_score'] = 1 / (1 + abs(summary_stats['price_median'] - 1389))\n",
    "\n",
    "# Normalize mean_reviews (0–1)\n",
    "summary_stats['reviews_score'] = (summary_stats['reviews_mean'] - summary_stats['reviews_mean'].min()) / (summary_stats['reviews_mean'].max() - summary_stats['reviews_mean'].min())\n",
    "\n",
    "# Normalize median_rpm (0–1)\n",
    "summary_stats['rpm_score'] = (summary_stats['rpm_median'] - summary_stats['rpm_median'].min()) / (summary_stats['rpm_median'].max() - summary_stats['rpm_median'].min())\n",
    "\n",
    "# Normalize count (0-1)\n",
    "summary_stats['count_score'] = (summary_stats['count'] - summary_stats['count'].min()) / (summary_stats['count'].max() - summary_stats['count'].min())\n",
    "\n",
    "# Count the final strategic score\n",
    "summary_stats['strategic_score'] = (\n",
    "    0.15 * summary_stats['price_score'] +\n",
    "    0.3 * summary_stats['reviews_score'] +\n",
    "    0.4 * summary_stats['rpm_score'] +\n",
    "    0.15 * summary_stats['count_score']\n",
    ")"
   ]
  },
  {
   "cell_type": "code",
   "execution_count": 263,
   "metadata": {},
   "outputs": [
    {
     "data": {
      "text/html": [
       "<div>\n",
       "<style scoped>\n",
       "    .dataframe tbody tr th:only-of-type {\n",
       "        vertical-align: middle;\n",
       "    }\n",
       "\n",
       "    .dataframe tbody tr th {\n",
       "        vertical-align: top;\n",
       "    }\n",
       "\n",
       "    .dataframe thead th {\n",
       "        text-align: right;\n",
       "    }\n",
       "</style>\n",
       "<table border=\"1\" class=\"dataframe\">\n",
       "  <thead>\n",
       "    <tr style=\"text-align: right;\">\n",
       "      <th></th>\n",
       "      <th>neighbourhood</th>\n",
       "      <th>count</th>\n",
       "      <th>price_mean</th>\n",
       "      <th>price_median</th>\n",
       "      <th>price_std</th>\n",
       "      <th>reviews_sum</th>\n",
       "      <th>reviews_mean</th>\n",
       "      <th>reviews_median</th>\n",
       "      <th>reviews_std</th>\n",
       "      <th>rpm_mean</th>\n",
       "      <th>rpm_median</th>\n",
       "      <th>rpm_std</th>\n",
       "      <th>price_score</th>\n",
       "      <th>reviews_score</th>\n",
       "      <th>rpm_score</th>\n",
       "      <th>count_score</th>\n",
       "      <th>strategic_score</th>\n",
       "    </tr>\n",
       "  </thead>\n",
       "  <tbody>\n",
       "    <tr>\n",
       "      <th>1</th>\n",
       "      <td>Khlong Toei</td>\n",
       "      <td>2265</td>\n",
       "      <td>3153.482119</td>\n",
       "      <td>1600.0</td>\n",
       "      <td>21763.965850</td>\n",
       "      <td>44564</td>\n",
       "      <td>19.675055</td>\n",
       "      <td>6.0</td>\n",
       "      <td>39.905536</td>\n",
       "      <td>0.951011</td>\n",
       "      <td>0.410</td>\n",
       "      <td>1.377470</td>\n",
       "      <td>0.004717</td>\n",
       "      <td>0.568175</td>\n",
       "      <td>1.000000</td>\n",
       "      <td>0.930395</td>\n",
       "      <td>0.710719</td>\n",
       "    </tr>\n",
       "    <tr>\n",
       "      <th>4</th>\n",
       "      <td>Sathon</td>\n",
       "      <td>869</td>\n",
       "      <td>2071.521289</td>\n",
       "      <td>1200.0</td>\n",
       "      <td>4028.301787</td>\n",
       "      <td>22790</td>\n",
       "      <td>26.225547</td>\n",
       "      <td>4.0</td>\n",
       "      <td>59.436697</td>\n",
       "      <td>0.710311</td>\n",
       "      <td>0.330</td>\n",
       "      <td>0.965912</td>\n",
       "      <td>0.005263</td>\n",
       "      <td>0.758549</td>\n",
       "      <td>0.804878</td>\n",
       "      <td>0.355437</td>\n",
       "      <td>0.603621</td>\n",
       "    </tr>\n",
       "    <tr>\n",
       "      <th>25</th>\n",
       "      <td>Pom Prap Sattru Phai</td>\n",
       "      <td>131</td>\n",
       "      <td>2550.167939</td>\n",
       "      <td>1647.0</td>\n",
       "      <td>2516.680127</td>\n",
       "      <td>4249</td>\n",
       "      <td>32.435115</td>\n",
       "      <td>4.0</td>\n",
       "      <td>70.147438</td>\n",
       "      <td>0.740534</td>\n",
       "      <td>0.320</td>\n",
       "      <td>1.053883</td>\n",
       "      <td>0.003861</td>\n",
       "      <td>0.939016</td>\n",
       "      <td>0.780488</td>\n",
       "      <td>0.051483</td>\n",
       "      <td>0.602201</td>\n",
       "    </tr>\n",
       "    <tr>\n",
       "      <th>0</th>\n",
       "      <td>Vadhana</td>\n",
       "      <td>2434</td>\n",
       "      <td>3282.442071</td>\n",
       "      <td>1817.0</td>\n",
       "      <td>8314.738945</td>\n",
       "      <td>36192</td>\n",
       "      <td>14.869351</td>\n",
       "      <td>2.0</td>\n",
       "      <td>31.458298</td>\n",
       "      <td>0.653809</td>\n",
       "      <td>0.185</td>\n",
       "      <td>1.050828</td>\n",
       "      <td>0.002331</td>\n",
       "      <td>0.428509</td>\n",
       "      <td>0.451220</td>\n",
       "      <td>1.000000</td>\n",
       "      <td>0.459390</td>\n",
       "    </tr>\n",
       "    <tr>\n",
       "      <th>12</th>\n",
       "      <td>Phaya Thai</td>\n",
       "      <td>403</td>\n",
       "      <td>1937.672457</td>\n",
       "      <td>1400.0</td>\n",
       "      <td>1747.838750</td>\n",
       "      <td>13917</td>\n",
       "      <td>34.533499</td>\n",
       "      <td>4.0</td>\n",
       "      <td>86.782686</td>\n",
       "      <td>0.613325</td>\n",
       "      <td>0.120</td>\n",
       "      <td>1.324238</td>\n",
       "      <td>0.083333</td>\n",
       "      <td>1.000000</td>\n",
       "      <td>0.292683</td>\n",
       "      <td>0.163509</td>\n",
       "      <td>0.454100</td>\n",
       "    </tr>\n",
       "  </tbody>\n",
       "</table>\n",
       "</div>"
      ],
      "text/plain": [
       "           neighbourhood  count   price_mean  price_median     price_std  \\\n",
       "1            Khlong Toei   2265  3153.482119        1600.0  21763.965850   \n",
       "4                 Sathon    869  2071.521289        1200.0   4028.301787   \n",
       "25  Pom Prap Sattru Phai    131  2550.167939        1647.0   2516.680127   \n",
       "0                Vadhana   2434  3282.442071        1817.0   8314.738945   \n",
       "12            Phaya Thai    403  1937.672457        1400.0   1747.838750   \n",
       "\n",
       "    reviews_sum  reviews_mean  reviews_median  reviews_std  rpm_mean  \\\n",
       "1         44564     19.675055             6.0    39.905536  0.951011   \n",
       "4         22790     26.225547             4.0    59.436697  0.710311   \n",
       "25         4249     32.435115             4.0    70.147438  0.740534   \n",
       "0         36192     14.869351             2.0    31.458298  0.653809   \n",
       "12        13917     34.533499             4.0    86.782686  0.613325   \n",
       "\n",
       "    rpm_median   rpm_std  price_score  reviews_score  rpm_score  count_score  \\\n",
       "1        0.410  1.377470     0.004717       0.568175   1.000000     0.930395   \n",
       "4        0.330  0.965912     0.005263       0.758549   0.804878     0.355437   \n",
       "25       0.320  1.053883     0.003861       0.939016   0.780488     0.051483   \n",
       "0        0.185  1.050828     0.002331       0.428509   0.451220     1.000000   \n",
       "12       0.120  1.324238     0.083333       1.000000   0.292683     0.163509   \n",
       "\n",
       "    strategic_score  \n",
       "1          0.710719  \n",
       "4          0.603621  \n",
       "25         0.602201  \n",
       "0          0.459390  \n",
       "12         0.454100  "
      ]
     },
     "execution_count": 263,
     "metadata": {},
     "output_type": "execute_result"
    }
   ],
   "source": [
    "top_5_neighbourhoods = summary_stats.sort_values(by='strategic_score', ascending=False).head(5)\n",
    "top_5_neighbourhoods"
   ]
  },
  {
   "cell_type": "code",
   "execution_count": 274,
   "metadata": {},
   "outputs": [
    {
     "name": "stderr",
     "output_type": "stream",
     "text": [
      "C:\\Users\\cindy.TESS\\AppData\\Local\\Temp\\ipykernel_18208\\3323699761.py:3: FutureWarning: \n",
      "\n",
      "Passing `palette` without assigning `hue` is deprecated and will be removed in v0.14.0. Assign the `y` variable to `hue` and set `legend=False` for the same effect.\n",
      "\n",
      "  sns.barplot(data=top_5_neighbourhoods, y='neighbourhood', x='strategic_score', palette='viridis')\n"
     ]
    },
    {
     "data": {
      "image/png": "[encoded data removed]",
      "text/plain": [
       "<Figure size 1200x600 with 1 Axes>"
      ]
     },
     "metadata": {},
     "output_type": "display_data"
    }
   ],
   "source": [
    "# Visualize the top 10 neighbourhoods by strategic score\n",
    "plt.figure(figsize=(12, 6))\n",
    "sns.barplot(data=top_5_neighbourhoods, y='neighbourhood', x='strategic_score', palette='viridis')\n",
    "plt.title('Top 10 Most Strategic Neighbourhoods')\n",
    "plt.ylabel('Neighbourhood')\n",
    "plt.xlabel('Strategic Score')\n",
    "plt.show()"
   ]
  },
  {
   "cell_type": "markdown",
   "metadata": {},
   "source": [
    "Let's analyze these 5 neighbourhoods based on **apartment sales price** and **general area information** that can be found on the Internet. For **apartment sales price**, we used the help of LLMs to summarize actual sales data from FazWaz, Thailand Property, and Hipflat."
   ]
  },
  {
   "cell_type": "markdown",
   "metadata": {},
   "source": [
    "| Neighbourhood Name | Avg. Sales Price per sqm (THB) | General Area Description |\n",
    "|---|---|---|\n",
    "| Khlong Toei | 190,000 | Tourism area with famous local markets |\n",
    "| Sathon | 240,000 | Luxury business district with a vibrant nightlife |\n",
    "| Pom Prap Sattru Phai | 190,644 | Historic old town with traditional buildings, less commercialized |\n",
    "| Vadhana (watthana) | 150,000 | Trendy district among expatriates and young professionals |\n",
    "| Phaya Thai | 158,000 | Major transportation hub, a mixture of residential and commercial properties |"
   ]
  },
  {
   "cell_type": "markdown",
   "metadata": {},
   "source": [
    "**Insights:**\n",
    "<br>Among the top 5 areas, Khlong Toei has the biggest return potential despite the average sales price not being the lowest. This is because the area is bustling with tourists and highly commercialized."
   ]
  },
  {
   "cell_type": "markdown",
   "metadata": {},
   "source": [
    "**Conclusion:**<br>\n",
    "From the EDA, the most profitable strategy is to open an Airbnb with **Entire home/apt** room type in **Khlong Toei** with a price range of **1000-2000 THB**."
   ]
  },
  {
   "cell_type": "markdown",
   "metadata": {},
   "source": [
    "### 7. Statistical Analysis"
   ]
  },
  {
   "cell_type": "markdown",
   "metadata": {},
   "source": [
    "The goal of the statistical analysis is to determine whether other attributes in the dataset play a part in determining the popularity of a listing. This is to complete our analysis and make sure that we do not miss any recommendation."
   ]
  },
  {
   "cell_type": "markdown",
   "metadata": {},
   "source": [
    "#### Descriptive Statistics"
   ]
  },
  {
   "cell_type": "code",
   "execution_count": 265,
   "metadata": {},
   "outputs": [
    {
     "name": "stdout",
     "output_type": "stream",
     "text": [
      "                price  reviews_per_month  availability_365  minimum_nights\n",
      "count    16981.000000       16981.000000      16981.000000    16981.000000\n",
      "mean      2737.403686           0.573403        254.897827       12.969319\n",
      "std      16715.217264           1.038588        122.425969       41.032402\n",
      "min        278.000000           0.000000          0.000000        1.000000\n",
      "25%        900.000000           0.000000        157.000000        1.000000\n",
      "50%       1389.000000           0.120000        329.000000        1.000000\n",
      "75%       2250.000000           0.760000        364.000000        7.000000\n",
      "max    1000000.000000          20.580000        365.000000     1115.000000\n"
     ]
    }
   ],
   "source": [
    "summary_stats = df[['price', 'reviews_per_month', 'availability_365', 'minimum_nights']].describe()\n",
    "print(summary_stats) "
   ]
  },
  {
   "cell_type": "code",
   "execution_count": 266,
   "metadata": {},
   "outputs": [
    {
     "data": {
      "image/png": "[encoded data removed]",
      "text/plain": [
       "<Figure size 800x600 with 2 Axes>"
      ]
     },
     "metadata": {},
     "output_type": "display_data"
    }
   ],
   "source": [
    "# Pearson Correlation heatmap\n",
    "corr_matrix = df[['price', 'reviews_per_month', 'availability_365', 'minimum_nights']].corr()\n",
    "plt.figure(figsize=(8, 6))\n",
    "sns.heatmap(corr_matrix, annot=True, cmap='coolwarm', fmt=\".2f\")\n",
    "plt.title(\"Correlation Matrix of Key Variables\")\n",
    "plt.show()"
   ]
  },
  {
   "cell_type": "markdown",
   "metadata": {},
   "source": [
    "**Insights:**\n",
    "1. The variables are mostly independent\n",
    "1. Listings with a higher minimum nights tend to get less reviews. Since reviews directly correlate with popularity, this shows that people are less willing to rent if the minimum night requirement is high."
   ]
  },
  {
   "cell_type": "markdown",
   "metadata": {},
   "source": [
    "#### Inferential Statistics"
   ]
  },
  {
   "cell_type": "code",
   "execution_count": 267,
   "metadata": {},
   "outputs": [
    {
     "name": "stdout",
     "output_type": "stream",
     "text": [
      "ANOVA p-value (reviews per month by neighborhood): 5.886847507233193e-21\n"
     ]
    }
   ],
   "source": [
    "# ANOVA: Do reviews per month significantly vary by neighborhood?\n",
    "top_neigh_reviews = df.groupby(\"neighbourhood\")[\"reviews_per_month\"].mean().sort_values(ascending=False).head(10)\n",
    "anova_result = stats.f_oneway(*(df[df[\"neighbourhood\"] == n][\"reviews_per_month\"].dropna() for n in top_neigh_reviews.index))\n",
    "print(\"ANOVA p-value (reviews per month by neighborhood):\", anova_result.pvalue)"
   ]
  },
  {
   "cell_type": "markdown",
   "metadata": {},
   "source": [
    "**Insight:**<br>\n",
    "Reviews per month does not significantly vary by neighourhood."
   ]
  },
  {
   "cell_type": "code",
   "execution_count": 268,
   "metadata": {},
   "outputs": [
    {
     "name": "stdout",
     "output_type": "stream",
     "text": [
      "ANOVA p-value (price by neighborhood): 0.00036873519521913174\n"
     ]
    }
   ],
   "source": [
    "# ANOVA: Does price significantly vary by neighborhood?\n",
    "top_neigh_price = df.groupby(\"neighbourhood\")[\"price\"].mean().sort_values(ascending=False).head(10)\n",
    "anova_price_result = stats.f_oneway(*(df[df[\"neighbourhood\"] == n][\"price\"].dropna() for n in top_neigh_price.index))\n",
    "print(\"ANOVA p-value (price by neighborhood):\", anova_price_result.pvalue)"
   ]
  },
  {
   "cell_type": "markdown",
   "metadata": {},
   "source": [
    "**Insight:**<br>\n",
    "Price significantly varies by neighbourhood."
   ]
  },
  {
   "cell_type": "code",
   "execution_count": 269,
   "metadata": {},
   "outputs": [
    {
     "name": "stderr",
     "output_type": "stream",
     "text": [
      "C:\\Users\\cindy.TESS\\AppData\\Local\\Temp\\ipykernel_18208\\1530786723.py:15: SettingWithCopyWarning: \n",
      "A value is trying to be set on a copy of a slice from a DataFrame.\n",
      "Try using .loc[row_indexer,col_indexer] = value instead\n",
      "\n",
      "See the caveats in the documentation: https://pandas.pydata.org/pandas-docs/stable/user_guide/indexing.html#returning-a-view-versus-a-copy\n",
      "  df_clean['stay_category'] = df_clean['minimum_nights'].apply(categorize_stay)\n"
     ]
    }
   ],
   "source": [
    "# Does minimum nights affect reviews per month?\n",
    "\n",
    "# Select relevant columns\n",
    "df_clean = df[['minimum_nights', 'reviews_per_month']]\n",
    "\n",
    "# Categorize stays based on minimum_nights\n",
    "def categorize_stay(nights):\n",
    "    if nights <= 3:\n",
    "        return 'Short Stay'\n",
    "    elif nights <= 30:\n",
    "        return 'Medium Stay'\n",
    "    else:\n",
    "        return 'Long Stay'\n",
    "\n",
    "df_clean['stay_category'] = df_clean['minimum_nights'].apply(categorize_stay)"
   ]
  },
  {
   "cell_type": "code",
   "execution_count": 270,
   "metadata": {},
   "outputs": [
    {
     "data": {
      "image/png": "[encoded data removed]",
      "text/plain": [
       "<Figure size 800x500 with 1 Axes>"
      ]
     },
     "metadata": {},
     "output_type": "display_data"
    }
   ],
   "source": [
    "# Visualize Reviews per Month across Stay Categories\n",
    "plt.figure(figsize=(8, 5))\n",
    "sns.boxplot(data=df_clean, x='stay_category', y='reviews_per_month')\n",
    "plt.title('Reviews per Month by Stay Category')\n",
    "plt.xlabel('Stay Category')\n",
    "plt.ylabel('Reviews per Month')\n",
    "plt.show()"
   ]
  },
  {
   "cell_type": "code",
   "execution_count": 271,
   "metadata": {},
   "outputs": [
    {
     "name": "stdout",
     "output_type": "stream",
     "text": [
      "Kruskal-Wallis H-statistic: 378.8317406454131\n",
      "p-value: 5.466794312840187e-83\n"
     ]
    }
   ],
   "source": [
    "from scipy.stats import kruskal\n",
    "\n",
    "# Kruskal-Wallis Test (non-parametric test for comparing more than 2 groups)\n",
    "groups = [group['reviews_per_month'].values for name, group in df_clean.groupby('stay_category')]\n",
    "kruskal_stat, kruskal_p = kruskal(*groups)\n",
    "\n",
    "print(\"Kruskal-Wallis H-statistic:\", kruskal_stat)\n",
    "print(\"p-value:\", kruskal_p)"
   ]
  },
  {
   "cell_type": "code",
   "execution_count": 272,
   "metadata": {},
   "outputs": [
    {
     "name": "stdout",
     "output_type": "stream",
     "text": [
      "There is a statistically significant difference in reviews_per_month between stay categories.\n",
      "Specifically, Short Stay listings (1-3 nights) tend to have the highest review frequency,\n",
      "while Long Stay listings (>30 nights) receive the lowest reviews per month.\n"
     ]
    }
   ],
   "source": [
    "# Interpret the result\n",
    "\n",
    "if kruskal_p < 0.05:\n",
    "    print(\"There is a statistically significant difference in reviews_per_month between stay categories.\")\n",
    "    print(\"Specifically, Short Stay listings (1-3 nights) tend to have the highest review frequency,\")\n",
    "    print(\"while Long Stay listings (>30 nights) receive the lowest reviews per month.\")\n",
    "else:\n",
    "    print(\"There is no statistically significant difference in reviews_per_month between stay categories.\")"
   ]
  },
  {
   "cell_type": "markdown",
   "metadata": {},
   "source": [
    "**Insights:**<br>\n",
    "1. Minimum stay requirement DOES impact the number of reviews per month in Bangkok Airbnb listings.\n",
    "1. Shorter minimum stay tends to drive higher review activity from guests."
   ]
  },
  {
   "cell_type": "code",
   "execution_count": 273,
   "metadata": {},
   "outputs": [
    {
     "name": "stdout",
     "output_type": "stream",
     "text": [
      "T-statistic: 14.5183\n",
      "P-value: 0.0000\n",
      "Reject H₀: Listings in Khlong Toei are significantly more reviewed.\n"
     ]
    }
   ],
   "source": [
    "# Split the data\n",
    "khlong_toei_reviews = df[df['neighbourhood'] == 'Khlong Toei']['reviews_per_month'].dropna()\n",
    "other_reviews = df[df['neighbourhood'] != 'Khlong Toei']['reviews_per_month'].dropna()\n",
    "\n",
    "# Welch's t-test (unequal variances), one-sided: Khlong Toei > others\n",
    "t_stat, p_value = stats.ttest_ind(khlong_toei_reviews, other_reviews, equal_var=False, alternative='greater')\n",
    "\n",
    "# Print result\n",
    "print(f\"T-statistic: {t_stat:.4f}\")\n",
    "print(f\"P-value: {p_value:.4f}\")\n",
    "\n",
    "if p_value < 0.05:\n",
    "    print(\"Reject H₀: Listings in Khlong Toei are significantly more reviewed.\")\n",
    "else:\n",
    "    print(\"Fail to reject H₀: No significant evidence that Khlong Toei listings are more reviewed.\")"
   ]
  },
  {
   "cell_type": "markdown",
   "metadata": {},
   "source": [
    "**Insight:**\n",
    "<br>Our recommendation from EDA was proven correct as Khlong Toei listings are indeed more reviewed."
   ]
  },
  {
   "cell_type": "markdown",
   "metadata": {},
   "source": [
    "**Conclusion:**\n",
    "<br> We further add a recommendation that the minimum stay should be between 1-3 nights to drive more activity and increase popularity."
   ]
  },
  {
   "cell_type": "markdown",
   "metadata": {},
   "source": [
    "### 8. Overall Conclusion"
   ]
  },
  {
   "cell_type": "markdown",
   "metadata": {},
   "source": [
    "From our analysis, we recommend starting an Airbnb business with the following ideal attributes:\n",
    "1. Room type entire home/apartement\n",
    "1. Price range 1000-2000 THB\n",
    "1. Located in Khlong Toei\n",
    "1. Minimum stay requirement 1-3 nights"
   ]
  }
 ],
 "metadata": {
  "kernelspec": {
   "display_name": "jcds0512",
   "language": "python",
   "name": "python3"
  },
  "language_info": {
   "codemirror_mode": {
    "name": "ipython",
    "version": 3
   },
   "file_extension": ".py",
   "mimetype": "text/x-python",
   "name": "python",
   "nbconvert_exporter": "python",
   "pygments_lexer": "ipython3",
   "version": "3.13.1"
  }
 },
 "nbformat": 4,
 "nbformat_minor": 2
}
